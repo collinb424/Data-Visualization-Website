{
 "cells": [
  {
   "cell_type": "code",
   "execution_count": 88,
   "metadata": {},
   "outputs": [],
   "source": [
    "import csv\n",
    "import pandas as pd\n",
    "import plotly.express as px\n",
    "import plotly.io as pio"
   ]
  },
  {
   "cell_type": "code",
   "execution_count": 89,
   "metadata": {},
   "outputs": [],
   "source": [
    "# Open alcohol consumption CSV file and sort the data into lists\n",
    "\n",
    "with open('alcohol_consumption.csv', 'r') as fh:\n",
    "    alcohol_reader = csv.reader(fh)\n",
    "    next(alcohol_reader)\n",
    "    alcohol_table = []\n",
    "    for row in alcohol_reader:\n",
    "        alcohol_table.append(row)\n",
    "\n",
    "country_list = []\n",
    "alcohol_list = []\n",
    "age_list = []\n",
    "for row in alcohol_table:\n",
    "  country_list.append(row[0])\n",
    "  alcohol_list.append(row[1])\n",
    "  age_list.append(row[4])"
   ]
  },
  {
   "cell_type": "code",
   "execution_count": 90,
   "metadata": {},
   "outputs": [],
   "source": [
    "# Open happiness CSV file and sort the data into lists\n",
    "\n",
    "with open('happiness_data.csv', 'r') as fh:\n",
    "    happiness_reader = csv.reader(fh)\n",
    "    next(happiness_reader)\n",
    "    happiness_table = []\n",
    "    for row in happiness_reader:\n",
    "        happiness_table.append(row)\n",
    "\n",
    "other_country_list = []\n",
    "score_list = []\n",
    "gdp_list = []\n",
    "for row in happiness_table:\n",
    "  other_country_list.append(row[1])\n",
    "  score_list.append(row[2])\n",
    "  gdp_list.append(row[3])"
   ]
  },
  {
   "cell_type": "code",
   "execution_count": 91,
   "metadata": {},
   "outputs": [],
   "source": [
    "# Combine the data from the alcohol consumption and happiness CSV files into one cohesive set of lists\n",
    "\n",
    "countries = []\n",
    "alcohol = []\n",
    "happiness = []\n",
    "gdp = []\n",
    "age = []\n",
    "\n",
    "for i in range(len(country_list)):\n",
    "  for j in range(len(other_country_list)):\n",
    "    if (country_list[i] == other_country_list[j]):\n",
    "      countries.append(country_list[i])\n",
    "      alcohol.append(float(alcohol_list[i]))\n",
    "      age.append(int(age_list[i]))\n",
    "      happiness.append(float(score_list[j]))\n",
    "      gdp.append(float(gdp_list[j]))"
   ]
  },
  {
   "cell_type": "code",
   "execution_count": 92,
   "metadata": {},
   "outputs": [],
   "source": [
    "# Read in country ISO codes for proper identification on the map\n",
    "fh = open('iso_codes.txt')\n",
    "iso = fh.read().split(',')\n",
    "\n",
    "# Make Data Frame\n",
    "zipped_list = list(zip(happiness, alcohol, countries, gdp, iso, age))\n",
    "df = pd.DataFrame(zipped_list, columns=['Happiness', 'Alcohol', 'Country', 'GDP Per Capita', 'Iso', 'Legal Drinking Age'])"
   ]
  },
  {
   "cell_type": "code",
   "execution_count": 93,
   "metadata": {},
   "outputs": [
    {
     "data": {
      "application/vnd.plotly.v1+json": {
       "config": {
        "plotlyServerURL": "https://plotly.com"
       },
       "data": [
        {
         "hovertemplate": "Happiness Index Score=%{x}<br>Average Alcohol Consumption (L/Year)=%{y}<extra></extra>",
         "legendgroup": "",
         "marker": {
          "color": "#636efa",
          "symbol": "circle"
         },
         "mode": "markers",
         "name": "",
         "orientation": "v",
         "showlegend": false,
         "type": "scatter",
         "x": [
          5.94,
          5.529,
          6.985,
          6.149,
          7.021,
          6.354,
          4.189,
          5.011,
          7.09,
          6.07,
          5.523,
          6.592,
          6.118,
          5.693,
          4.796,
          3.231,
          7.246,
          6.182,
          7.054,
          7.48,
          5.758,
          6.198,
          4.587,
          5.323,
          6.046,
          6.923,
          5.893,
          7.307,
          7.769,
          5.287,
          5.648,
          7.228,
          7.6,
          5.886,
          6.892,
          7.488,
          4.519,
          6.086,
          4.722,
          7.494,
          7.343,
          6.444,
          5.603,
          7.278,
          5.432,
          6.008,
          5.895,
          4.332,
          6.726,
          4.799,
          6.223,
          3.334,
          5.175,
          4.7,
          5.386,
          6.321,
          3.775,
          6.3,
          7.554,
          5.631,
          5.743,
          6.293,
          4.719,
          5.697,
          5.425,
          3.488,
          5.274,
          5.265,
          5.191,
          5.285,
          4.015,
          5.044,
          6.125,
          3.975,
          4.374,
          3.802,
          6.105,
          6.595,
          5.809,
          5.261,
          5.888,
          4.559,
          3.663,
          4.107,
          7.139,
          5.89,
          6.253,
          3.41,
          7.167,
          5.86,
          5.779,
          6.825,
          4.707,
          4.516,
          6.028,
          4.639,
          5.247,
          4.944,
          3.597,
          4.366,
          4.996,
          4.466,
          4.085,
          6.174,
          4.883,
          4.286,
          4.509,
          4.36,
          4.461,
          6.262,
          3.933,
          5.373,
          3.083,
          6.436,
          5.197,
          6.374,
          4.39,
          4.35,
          3.973,
          6.199,
          4.534,
          5.208,
          5.339,
          5.467,
          4.681,
          5.211,
          4.913,
          4.906,
          4.628,
          5.208,
          4.437,
          5.192,
          5.082,
          3.462,
          4.166,
          4.49,
          4.456
         ],
         "xaxis": "x",
         "y": [
          13.19,
          12.85,
          12.79,
          12.78,
          12.75,
          12.67,
          12.48,
          12.46,
          12.45,
          12.34,
          12.24,
          12.23,
          12.11,
          12.09,
          12.08,
          12.04,
          11.93,
          11.89,
          11.45,
          11.23,
          11.07,
          11.06,
          11.05,
          10.96,
          10.8,
          10.8,
          10.75,
          10.69,
          10.65,
          10.5,
          10.5,
          10.36,
          10.13,
          10.09,
          9.97,
          9.67,
          9.47,
          9.45,
          9.45,
          9.21,
          9.04,
          8.95,
          8.85,
          8.81,
          8.73,
          8.5,
          8.45,
          8.34,
          8.27,
          8.08,
          8.01,
          7.96,
          7.93,
          7.84,
          7.81,
          7.77,
          7.45,
          7.32,
          7.14,
          7.02,
          7.01,
          6.92,
          6.82,
          6.78,
          6.68,
          6.61,
          6.43,
          6.19,
          6.04,
          5.9,
          5.61,
          5.52,
          5.45,
          5.37,
          5.31,
          5.08,
          5.07,
          5.05,
          5,
          4.85,
          4.78,
          4.67,
          4.52,
          4.46,
          4.38,
          4.16,
          4.09,
          4.08,
          4.07,
          3.93,
          3.91,
          3.85,
          3.56,
          3.36,
          3.27,
          3.15,
          3.09,
          3.04,
          3.02,
          2.87,
          2.78,
          2.69,
          2.66,
          2.61,
          2.23,
          2.2,
          2.15,
          2.14,
          2.04,
          2,
          1.98,
          1.77,
          1.71,
          1.63,
          1.53,
          1.51,
          1.31,
          1.26,
          1.15,
          1.13,
          1.09,
          0.98,
          0.93,
          0.88,
          0.73,
          0.63,
          0.62,
          0.52,
          0.52,
          0.49,
          0.37,
          0.22,
          0.21,
          0.19,
          0.14,
          0,
          0
         ],
         "yaxis": "y"
        },
        {
         "hovertemplate": "<b>OLS trendline</b><br>Alcohol = 1.63629 * Happiness + -2.66743<br>R<sup>2</sup>=0.198845<br><br>Happiness Index Score=%{x}<br>Average Alcohol Consumption (L/Year)=%{y} <b>(trend)</b><extra></extra>",
         "legendgroup": "",
         "marker": {
          "color": "#636efa",
          "symbol": "circle"
         },
         "mode": "lines",
         "name": "",
         "showlegend": false,
         "type": "scatter",
         "x": [
          3.083,
          3.231,
          3.334,
          3.41,
          3.462,
          3.488,
          3.597,
          3.663,
          3.775,
          3.802,
          3.933,
          3.973,
          3.975,
          4.015,
          4.085,
          4.107,
          4.166,
          4.189,
          4.286,
          4.332,
          4.35,
          4.36,
          4.366,
          4.374,
          4.39,
          4.437,
          4.456,
          4.461,
          4.466,
          4.49,
          4.509,
          4.516,
          4.519,
          4.534,
          4.559,
          4.587,
          4.628,
          4.639,
          4.681,
          4.7,
          4.707,
          4.719,
          4.722,
          4.796,
          4.799,
          4.883,
          4.906,
          4.913,
          4.944,
          4.996,
          5.011,
          5.044,
          5.082,
          5.175,
          5.191,
          5.192,
          5.197,
          5.208,
          5.208,
          5.211,
          5.247,
          5.261,
          5.265,
          5.274,
          5.285,
          5.287,
          5.323,
          5.339,
          5.373,
          5.386,
          5.425,
          5.432,
          5.467,
          5.523,
          5.529,
          5.603,
          5.631,
          5.648,
          5.693,
          5.697,
          5.743,
          5.758,
          5.779,
          5.809,
          5.86,
          5.886,
          5.888,
          5.89,
          5.893,
          5.895,
          5.94,
          6.008,
          6.028,
          6.046,
          6.07,
          6.086,
          6.105,
          6.118,
          6.125,
          6.149,
          6.174,
          6.182,
          6.198,
          6.199,
          6.223,
          6.253,
          6.262,
          6.293,
          6.3,
          6.321,
          6.354,
          6.374,
          6.436,
          6.444,
          6.592,
          6.595,
          6.726,
          6.825,
          6.892,
          6.923,
          6.985,
          7.021,
          7.054,
          7.09,
          7.139,
          7.167,
          7.228,
          7.246,
          7.278,
          7.307,
          7.343,
          7.48,
          7.488,
          7.494,
          7.554,
          7.6,
          7.769
         ],
         "xaxis": "x",
         "y": [
          2.3772643565360636,
          2.619435819737069,
          2.787974067775608,
          2.9123323867166655,
          2.9974196575710725,
          3.039963292998276,
          3.2183193030584767,
          3.326314685296763,
          3.5095795763677944,
          3.5537595054652757,
          3.768113976271571,
          3.833565723082654,
          3.8368383104232087,
          3.9022900572342905,
          4.016830614153687,
          4.0528290748997815,
          4.149370401446129,
          4.187005155862501,
          4.345725641879376,
          4.4209951507121215,
          4.450448436777108,
          4.46681137347988,
          4.4766291355015415,
          4.489719484863759,
          4.515900183588192,
          4.592805986091214,
          4.623895565826478,
          4.632077034177865,
          4.6402585025292495,
          4.679529550615898,
          4.710619130351164,
          4.722073186043103,
          4.7269820670539335,
          4.75152647210809,
          4.792433813865017,
          4.838250036632774,
          4.905338077114134,
          4.9233373074871825,
          4.992061641638818,
          5.023151221374084,
          5.034605277066023,
          5.054240801109348,
          5.059149682120179,
          5.180235413720682,
          5.185144294731513,
          5.322592963034786,
          5.360227717451158,
          5.371681773143099,
          5.422406876921688,
          5.507494147776095,
          5.532038552830251,
          5.586036243949394,
          5.648215403419922,
          5.8003907147556895,
          5.8265714134801225,
          5.828207707150401,
          5.836389175501786,
          5.854388405874834,
          5.854388405874834,
          5.859297286885665,
          5.918203859015639,
          5.941111970399518,
          5.947657145080626,
          5.9623837881131205,
          5.980383018486167,
          5.983655605826721,
          6.042562177956697,
          6.06874287668113,
          6.12437686147055,
          6.145648679184152,
          6.209464132324957,
          6.220918188016897,
          6.278188466476593,
          6.369820912012109,
          6.379638674033773,
          6.500724405634275,
          6.546540628402033,
          6.574357620796743,
          6.647990835959211,
          6.654536010640319,
          6.729805519473066,
          6.7543499245272205,
          6.788712091603038,
          6.837800901711352,
          6.921251878895482,
          6.963795514322685,
          6.967068101663239,
          6.970340689003793,
          6.9752495700146255,
          6.978522157355178,
          7.052155372517648,
          7.163423342096488,
          7.196149215502029,
          7.2256025015670176,
          7.264873549653666,
          7.291054248378099,
          7.322143828113365,
          7.3434156458269655,
          7.354869701518904,
          7.394140749605555,
          7.435048091362482,
          7.448138440724698,
          7.474319139449131,
          7.475955433119408,
          7.5152264812060565,
          7.5643152913143705,
          7.579041934346863,
          7.629767038125452,
          7.641221093817391,
          7.675583260893211,
          7.729580952012354,
          7.762306825417895,
          7.863757032975073,
          7.87684738233729,
          8.119018845538296,
          8.123927726549127,
          8.338282197355422,
          8.500275270712853,
          8.609906946621416,
          8.660632050400006,
          8.762082257957184,
          8.820988830087158,
          8.874986521206301,
          8.933893093336275,
          9.014071483179853,
          9.05988770594761,
          9.159701619834511,
          9.1891549058995,
          9.241516303348364,
          9.288968819786401,
          9.347875391916373,
          9.572047624744334,
          9.58513797410655,
          9.594955736128211,
          9.693133356344836,
          9.76840286517758,
          10.044936495454406
         ],
         "yaxis": "y"
        }
       ],
       "layout": {
        "legend": {
         "tracegroupgap": 0
        },
        "template": {
         "data": {
          "bar": [
           {
            "error_x": {
             "color": "#2a3f5f"
            },
            "error_y": {
             "color": "#2a3f5f"
            },
            "marker": {
             "line": {
              "color": "#E5ECF6",
              "width": 0.5
             },
             "pattern": {
              "fillmode": "overlay",
              "size": 10,
              "solidity": 0.2
             }
            },
            "type": "bar"
           }
          ],
          "barpolar": [
           {
            "marker": {
             "line": {
              "color": "#E5ECF6",
              "width": 0.5
             },
             "pattern": {
              "fillmode": "overlay",
              "size": 10,
              "solidity": 0.2
             }
            },
            "type": "barpolar"
           }
          ],
          "carpet": [
           {
            "aaxis": {
             "endlinecolor": "#2a3f5f",
             "gridcolor": "white",
             "linecolor": "white",
             "minorgridcolor": "white",
             "startlinecolor": "#2a3f5f"
            },
            "baxis": {
             "endlinecolor": "#2a3f5f",
             "gridcolor": "white",
             "linecolor": "white",
             "minorgridcolor": "white",
             "startlinecolor": "#2a3f5f"
            },
            "type": "carpet"
           }
          ],
          "choropleth": [
           {
            "colorbar": {
             "outlinewidth": 0,
             "ticks": ""
            },
            "type": "choropleth"
           }
          ],
          "contour": [
           {
            "colorbar": {
             "outlinewidth": 0,
             "ticks": ""
            },
            "colorscale": [
             [
              0,
              "#0d0887"
             ],
             [
              0.1111111111111111,
              "#46039f"
             ],
             [
              0.2222222222222222,
              "#7201a8"
             ],
             [
              0.3333333333333333,
              "#9c179e"
             ],
             [
              0.4444444444444444,
              "#bd3786"
             ],
             [
              0.5555555555555556,
              "#d8576b"
             ],
             [
              0.6666666666666666,
              "#ed7953"
             ],
             [
              0.7777777777777778,
              "#fb9f3a"
             ],
             [
              0.8888888888888888,
              "#fdca26"
             ],
             [
              1,
              "#f0f921"
             ]
            ],
            "type": "contour"
           }
          ],
          "contourcarpet": [
           {
            "colorbar": {
             "outlinewidth": 0,
             "ticks": ""
            },
            "type": "contourcarpet"
           }
          ],
          "heatmap": [
           {
            "colorbar": {
             "outlinewidth": 0,
             "ticks": ""
            },
            "colorscale": [
             [
              0,
              "#0d0887"
             ],
             [
              0.1111111111111111,
              "#46039f"
             ],
             [
              0.2222222222222222,
              "#7201a8"
             ],
             [
              0.3333333333333333,
              "#9c179e"
             ],
             [
              0.4444444444444444,
              "#bd3786"
             ],
             [
              0.5555555555555556,
              "#d8576b"
             ],
             [
              0.6666666666666666,
              "#ed7953"
             ],
             [
              0.7777777777777778,
              "#fb9f3a"
             ],
             [
              0.8888888888888888,
              "#fdca26"
             ],
             [
              1,
              "#f0f921"
             ]
            ],
            "type": "heatmap"
           }
          ],
          "heatmapgl": [
           {
            "colorbar": {
             "outlinewidth": 0,
             "ticks": ""
            },
            "colorscale": [
             [
              0,
              "#0d0887"
             ],
             [
              0.1111111111111111,
              "#46039f"
             ],
             [
              0.2222222222222222,
              "#7201a8"
             ],
             [
              0.3333333333333333,
              "#9c179e"
             ],
             [
              0.4444444444444444,
              "#bd3786"
             ],
             [
              0.5555555555555556,
              "#d8576b"
             ],
             [
              0.6666666666666666,
              "#ed7953"
             ],
             [
              0.7777777777777778,
              "#fb9f3a"
             ],
             [
              0.8888888888888888,
              "#fdca26"
             ],
             [
              1,
              "#f0f921"
             ]
            ],
            "type": "heatmapgl"
           }
          ],
          "histogram": [
           {
            "marker": {
             "pattern": {
              "fillmode": "overlay",
              "size": 10,
              "solidity": 0.2
             }
            },
            "type": "histogram"
           }
          ],
          "histogram2d": [
           {
            "colorbar": {
             "outlinewidth": 0,
             "ticks": ""
            },
            "colorscale": [
             [
              0,
              "#0d0887"
             ],
             [
              0.1111111111111111,
              "#46039f"
             ],
             [
              0.2222222222222222,
              "#7201a8"
             ],
             [
              0.3333333333333333,
              "#9c179e"
             ],
             [
              0.4444444444444444,
              "#bd3786"
             ],
             [
              0.5555555555555556,
              "#d8576b"
             ],
             [
              0.6666666666666666,
              "#ed7953"
             ],
             [
              0.7777777777777778,
              "#fb9f3a"
             ],
             [
              0.8888888888888888,
              "#fdca26"
             ],
             [
              1,
              "#f0f921"
             ]
            ],
            "type": "histogram2d"
           }
          ],
          "histogram2dcontour": [
           {
            "colorbar": {
             "outlinewidth": 0,
             "ticks": ""
            },
            "colorscale": [
             [
              0,
              "#0d0887"
             ],
             [
              0.1111111111111111,
              "#46039f"
             ],
             [
              0.2222222222222222,
              "#7201a8"
             ],
             [
              0.3333333333333333,
              "#9c179e"
             ],
             [
              0.4444444444444444,
              "#bd3786"
             ],
             [
              0.5555555555555556,
              "#d8576b"
             ],
             [
              0.6666666666666666,
              "#ed7953"
             ],
             [
              0.7777777777777778,
              "#fb9f3a"
             ],
             [
              0.8888888888888888,
              "#fdca26"
             ],
             [
              1,
              "#f0f921"
             ]
            ],
            "type": "histogram2dcontour"
           }
          ],
          "mesh3d": [
           {
            "colorbar": {
             "outlinewidth": 0,
             "ticks": ""
            },
            "type": "mesh3d"
           }
          ],
          "parcoords": [
           {
            "line": {
             "colorbar": {
              "outlinewidth": 0,
              "ticks": ""
             }
            },
            "type": "parcoords"
           }
          ],
          "pie": [
           {
            "automargin": true,
            "type": "pie"
           }
          ],
          "scatter": [
           {
            "fillpattern": {
             "fillmode": "overlay",
             "size": 10,
             "solidity": 0.2
            },
            "type": "scatter"
           }
          ],
          "scatter3d": [
           {
            "line": {
             "colorbar": {
              "outlinewidth": 0,
              "ticks": ""
             }
            },
            "marker": {
             "colorbar": {
              "outlinewidth": 0,
              "ticks": ""
             }
            },
            "type": "scatter3d"
           }
          ],
          "scattercarpet": [
           {
            "marker": {
             "colorbar": {
              "outlinewidth": 0,
              "ticks": ""
             }
            },
            "type": "scattercarpet"
           }
          ],
          "scattergeo": [
           {
            "marker": {
             "colorbar": {
              "outlinewidth": 0,
              "ticks": ""
             }
            },
            "type": "scattergeo"
           }
          ],
          "scattergl": [
           {
            "marker": {
             "colorbar": {
              "outlinewidth": 0,
              "ticks": ""
             }
            },
            "type": "scattergl"
           }
          ],
          "scattermapbox": [
           {
            "marker": {
             "colorbar": {
              "outlinewidth": 0,
              "ticks": ""
             }
            },
            "type": "scattermapbox"
           }
          ],
          "scatterpolar": [
           {
            "marker": {
             "colorbar": {
              "outlinewidth": 0,
              "ticks": ""
             }
            },
            "type": "scatterpolar"
           }
          ],
          "scatterpolargl": [
           {
            "marker": {
             "colorbar": {
              "outlinewidth": 0,
              "ticks": ""
             }
            },
            "type": "scatterpolargl"
           }
          ],
          "scatterternary": [
           {
            "marker": {
             "colorbar": {
              "outlinewidth": 0,
              "ticks": ""
             }
            },
            "type": "scatterternary"
           }
          ],
          "surface": [
           {
            "colorbar": {
             "outlinewidth": 0,
             "ticks": ""
            },
            "colorscale": [
             [
              0,
              "#0d0887"
             ],
             [
              0.1111111111111111,
              "#46039f"
             ],
             [
              0.2222222222222222,
              "#7201a8"
             ],
             [
              0.3333333333333333,
              "#9c179e"
             ],
             [
              0.4444444444444444,
              "#bd3786"
             ],
             [
              0.5555555555555556,
              "#d8576b"
             ],
             [
              0.6666666666666666,
              "#ed7953"
             ],
             [
              0.7777777777777778,
              "#fb9f3a"
             ],
             [
              0.8888888888888888,
              "#fdca26"
             ],
             [
              1,
              "#f0f921"
             ]
            ],
            "type": "surface"
           }
          ],
          "table": [
           {
            "cells": {
             "fill": {
              "color": "#EBF0F8"
             },
             "line": {
              "color": "white"
             }
            },
            "header": {
             "fill": {
              "color": "#C8D4E3"
             },
             "line": {
              "color": "white"
             }
            },
            "type": "table"
           }
          ]
         },
         "layout": {
          "annotationdefaults": {
           "arrowcolor": "#2a3f5f",
           "arrowhead": 0,
           "arrowwidth": 1
          },
          "autotypenumbers": "strict",
          "coloraxis": {
           "colorbar": {
            "outlinewidth": 0,
            "ticks": ""
           }
          },
          "colorscale": {
           "diverging": [
            [
             0,
             "#8e0152"
            ],
            [
             0.1,
             "#c51b7d"
            ],
            [
             0.2,
             "#de77ae"
            ],
            [
             0.3,
             "#f1b6da"
            ],
            [
             0.4,
             "#fde0ef"
            ],
            [
             0.5,
             "#f7f7f7"
            ],
            [
             0.6,
             "#e6f5d0"
            ],
            [
             0.7,
             "#b8e186"
            ],
            [
             0.8,
             "#7fbc41"
            ],
            [
             0.9,
             "#4d9221"
            ],
            [
             1,
             "#276419"
            ]
           ],
           "sequential": [
            [
             0,
             "#0d0887"
            ],
            [
             0.1111111111111111,
             "#46039f"
            ],
            [
             0.2222222222222222,
             "#7201a8"
            ],
            [
             0.3333333333333333,
             "#9c179e"
            ],
            [
             0.4444444444444444,
             "#bd3786"
            ],
            [
             0.5555555555555556,
             "#d8576b"
            ],
            [
             0.6666666666666666,
             "#ed7953"
            ],
            [
             0.7777777777777778,
             "#fb9f3a"
            ],
            [
             0.8888888888888888,
             "#fdca26"
            ],
            [
             1,
             "#f0f921"
            ]
           ],
           "sequentialminus": [
            [
             0,
             "#0d0887"
            ],
            [
             0.1111111111111111,
             "#46039f"
            ],
            [
             0.2222222222222222,
             "#7201a8"
            ],
            [
             0.3333333333333333,
             "#9c179e"
            ],
            [
             0.4444444444444444,
             "#bd3786"
            ],
            [
             0.5555555555555556,
             "#d8576b"
            ],
            [
             0.6666666666666666,
             "#ed7953"
            ],
            [
             0.7777777777777778,
             "#fb9f3a"
            ],
            [
             0.8888888888888888,
             "#fdca26"
            ],
            [
             1,
             "#f0f921"
            ]
           ]
          },
          "colorway": [
           "#636efa",
           "#EF553B",
           "#00cc96",
           "#ab63fa",
           "#FFA15A",
           "#19d3f3",
           "#FF6692",
           "#B6E880",
           "#FF97FF",
           "#FECB52"
          ],
          "font": {
           "color": "#2a3f5f"
          },
          "geo": {
           "bgcolor": "white",
           "lakecolor": "white",
           "landcolor": "#E5ECF6",
           "showlakes": true,
           "showland": true,
           "subunitcolor": "white"
          },
          "hoverlabel": {
           "align": "left"
          },
          "hovermode": "closest",
          "mapbox": {
           "style": "light"
          },
          "paper_bgcolor": "white",
          "plot_bgcolor": "#E5ECF6",
          "polar": {
           "angularaxis": {
            "gridcolor": "white",
            "linecolor": "white",
            "ticks": ""
           },
           "bgcolor": "#E5ECF6",
           "radialaxis": {
            "gridcolor": "white",
            "linecolor": "white",
            "ticks": ""
           }
          },
          "scene": {
           "xaxis": {
            "backgroundcolor": "#E5ECF6",
            "gridcolor": "white",
            "gridwidth": 2,
            "linecolor": "white",
            "showbackground": true,
            "ticks": "",
            "zerolinecolor": "white"
           },
           "yaxis": {
            "backgroundcolor": "#E5ECF6",
            "gridcolor": "white",
            "gridwidth": 2,
            "linecolor": "white",
            "showbackground": true,
            "ticks": "",
            "zerolinecolor": "white"
           },
           "zaxis": {
            "backgroundcolor": "#E5ECF6",
            "gridcolor": "white",
            "gridwidth": 2,
            "linecolor": "white",
            "showbackground": true,
            "ticks": "",
            "zerolinecolor": "white"
           }
          },
          "shapedefaults": {
           "line": {
            "color": "#2a3f5f"
           }
          },
          "ternary": {
           "aaxis": {
            "gridcolor": "white",
            "linecolor": "white",
            "ticks": ""
           },
           "baxis": {
            "gridcolor": "white",
            "linecolor": "white",
            "ticks": ""
           },
           "bgcolor": "#E5ECF6",
           "caxis": {
            "gridcolor": "white",
            "linecolor": "white",
            "ticks": ""
           }
          },
          "title": {
           "x": 0.05
          },
          "xaxis": {
           "automargin": true,
           "gridcolor": "white",
           "linecolor": "white",
           "ticks": "",
           "title": {
            "standoff": 15
           },
           "zerolinecolor": "white",
           "zerolinewidth": 2
          },
          "yaxis": {
           "automargin": true,
           "gridcolor": "white",
           "linecolor": "white",
           "ticks": "",
           "title": {
            "standoff": 15
           },
           "zerolinecolor": "white",
           "zerolinewidth": 2
          }
         }
        },
        "title": {
         "text": "Alcohol Consumption vs Happiness Index"
        },
        "xaxis": {
         "anchor": "y",
         "domain": [
          0,
          1
         ],
         "title": {
          "text": "Happiness Index Score"
         }
        },
        "yaxis": {
         "anchor": "x",
         "domain": [
          0,
          1
         ],
         "title": {
          "text": "Average Alcohol Consumption (L/Year)"
         }
        }
       }
      }
     },
     "metadata": {},
     "output_type": "display_data"
    }
   ],
   "source": [
    "fig1 = px.scatter(df, x='Happiness', y='Alcohol', labels={'Happiness':'Happiness Index Score', 'Alcohol':'Average Alcohol Consumption (L/Year)'}, trendline=\"ols\", title='Alcohol Consumption vs Happiness Index')\n",
    "fig1.show()\n",
    "fig1.write_html('graphs/happiness_alcohol.html')"
   ]
  },
  {
   "cell_type": "code",
   "execution_count": 94,
   "metadata": {},
   "outputs": [
    {
     "data": {
      "application/vnd.plotly.v1+json": {
       "config": {
        "plotlyServerURL": "https://plotly.com"
       },
       "data": [
        {
         "hovertemplate": "GDP Per Capita=%{x}<br>Average Alcohol Consumption (L/Year)=%{y}<extra></extra>",
         "legendgroup": "",
         "marker": {
          "color": "#636efa",
          "symbol": "circle"
         },
         "mode": "markers",
         "name": "",
         "orientation": "v",
         "showlegend": false,
         "type": "scatter",
         "x": [
          1.187,
          0.685,
          1.373,
          1.238,
          1.499,
          1.286,
          0.332,
          1.092,
          1.609,
          1.162,
          1.051,
          1.324,
          1.258,
          1.221,
          0.764,
          0.476,
          1.376,
          1.206,
          1.333,
          1.452,
          1.201,
          1.246,
          0.331,
          1.067,
          1.263,
          1.356,
          1.237,
          1.303,
          1.34,
          1.181,
          1.183,
          1.372,
          1.383,
          1.327,
          1.433,
          1.396,
          0.886,
          1.092,
          0.96,
          1.38,
          1.387,
          1.159,
          1.004,
          1.365,
          1.155,
          1.05,
          1.301,
          0.82,
          1.3,
          1.057,
          1.294,
          0.359,
          0.741,
          0.574,
          0.945,
          1.149,
          0.046,
          1.004,
          1.488,
          0.807,
          0.855,
          1.124,
          0.947,
          0.96,
          1.015,
          1.041,
          0.983,
          0.696,
          1.029,
          0.948,
          0.755,
          0.549,
          0.985,
          0.073,
          0.268,
          0.489,
          0.694,
          1.07,
          1.173,
          0.551,
          1.12,
          0.85,
          0.366,
          0.578,
          1.276,
          0.831,
          0.794,
          0.191,
          1.034,
          0.642,
          0.776,
          1.503,
          0.96,
          0.308,
          0.912,
          0.879,
          1.052,
          0.569,
          0.323,
          0.949,
          0.611,
          0.204,
          0.275,
          0.745,
          0.393,
          0.336,
          0.512,
          0.71,
          0.921,
          1.572,
          0.274,
          1.183,
          0.026,
          0.8,
          0.987,
          1.684,
          0.385,
          0.35,
          0.274,
          1.362,
          0.38,
          1.043,
          1.221,
          0.493,
          0.45,
          1.002,
          0.446,
          0.837,
          0.138,
          0.801,
          1.043,
          0.931,
          0.813,
          0.619,
          0.913,
          0.57,
          0.562
         ],
         "xaxis": "x",
         "y": [
          13.19,
          12.85,
          12.79,
          12.78,
          12.75,
          12.67,
          12.48,
          12.46,
          12.45,
          12.34,
          12.24,
          12.23,
          12.11,
          12.09,
          12.08,
          12.04,
          11.93,
          11.89,
          11.45,
          11.23,
          11.07,
          11.06,
          11.05,
          10.96,
          10.8,
          10.8,
          10.75,
          10.69,
          10.65,
          10.5,
          10.5,
          10.36,
          10.13,
          10.09,
          9.97,
          9.67,
          9.47,
          9.45,
          9.45,
          9.21,
          9.04,
          8.95,
          8.85,
          8.81,
          8.73,
          8.5,
          8.45,
          8.34,
          8.27,
          8.08,
          8.01,
          7.96,
          7.93,
          7.84,
          7.81,
          7.77,
          7.45,
          7.32,
          7.14,
          7.02,
          7.01,
          6.92,
          6.82,
          6.78,
          6.68,
          6.61,
          6.43,
          6.19,
          6.04,
          5.9,
          5.61,
          5.52,
          5.45,
          5.37,
          5.31,
          5.08,
          5.07,
          5.05,
          5,
          4.85,
          4.78,
          4.67,
          4.52,
          4.46,
          4.38,
          4.16,
          4.09,
          4.08,
          4.07,
          3.93,
          3.91,
          3.85,
          3.56,
          3.36,
          3.27,
          3.15,
          3.09,
          3.04,
          3.02,
          2.87,
          2.78,
          2.69,
          2.66,
          2.61,
          2.23,
          2.2,
          2.15,
          2.14,
          2.04,
          2,
          1.98,
          1.77,
          1.71,
          1.63,
          1.53,
          1.51,
          1.31,
          1.26,
          1.15,
          1.13,
          1.09,
          0.98,
          0.93,
          0.88,
          0.73,
          0.63,
          0.62,
          0.52,
          0.52,
          0.49,
          0.37,
          0.22,
          0.21,
          0.19,
          0.14,
          0,
          0
         ],
         "yaxis": "y"
        },
        {
         "hovertemplate": "<b>OLS trendline</b><br>Alcohol = 5.0048 * GDP Per Capita + 1.6865<br>R<sup>2</sup>=0.228210<br><br>GDP Per Capita=%{x}<br>Average Alcohol Consumption (L/Year)=%{y} <b>(trend)</b><extra></extra>",
         "legendgroup": "",
         "marker": {
          "color": "#636efa",
          "symbol": "circle"
         },
         "mode": "lines",
         "name": "",
         "showlegend": false,
         "type": "scatter",
         "x": [
          0.026,
          0.046,
          0.073,
          0.138,
          0.191,
          0.204,
          0.268,
          0.274,
          0.274,
          0.275,
          0.308,
          0.323,
          0.331,
          0.332,
          0.336,
          0.35,
          0.359,
          0.366,
          0.38,
          0.385,
          0.393,
          0.446,
          0.45,
          0.476,
          0.489,
          0.493,
          0.512,
          0.549,
          0.551,
          0.562,
          0.569,
          0.57,
          0.574,
          0.578,
          0.611,
          0.619,
          0.642,
          0.685,
          0.694,
          0.696,
          0.71,
          0.741,
          0.745,
          0.755,
          0.764,
          0.776,
          0.794,
          0.8,
          0.801,
          0.807,
          0.813,
          0.82,
          0.831,
          0.837,
          0.85,
          0.855,
          0.879,
          0.886,
          0.912,
          0.913,
          0.921,
          0.931,
          0.945,
          0.947,
          0.948,
          0.949,
          0.96,
          0.96,
          0.96,
          0.983,
          0.985,
          0.987,
          1.002,
          1.004,
          1.004,
          1.015,
          1.029,
          1.034,
          1.041,
          1.043,
          1.043,
          1.05,
          1.051,
          1.052,
          1.057,
          1.067,
          1.07,
          1.092,
          1.092,
          1.12,
          1.124,
          1.149,
          1.155,
          1.159,
          1.162,
          1.173,
          1.181,
          1.183,
          1.183,
          1.187,
          1.201,
          1.206,
          1.221,
          1.221,
          1.237,
          1.238,
          1.246,
          1.258,
          1.263,
          1.276,
          1.286,
          1.294,
          1.3,
          1.301,
          1.303,
          1.324,
          1.327,
          1.333,
          1.34,
          1.356,
          1.362,
          1.365,
          1.372,
          1.373,
          1.376,
          1.38,
          1.383,
          1.387,
          1.396,
          1.433,
          1.452,
          1.488,
          1.499,
          1.503,
          1.572,
          1.609,
          1.684
         ],
         "xaxis": "x",
         "y": [
          1.8166262094915349,
          1.916722213927202,
          2.0518518199153526,
          2.3771638343312707,
          2.6424182460857883,
          2.707480648968972,
          3.0277878631631063,
          3.0578166644938065,
          3.0578166644938065,
          3.06282146471559,
          3.2279798720344406,
          3.3030518753611906,
          3.343090277135458,
          3.3480950773572413,
          3.3681142782443745,
          3.438181481349341,
          3.4832246833453917,
          3.518258284897875,
          3.588325488002842,
          3.6133494891117586,
          3.653387890886026,
          3.918642302640543,
          3.9386615035276766,
          4.068786309294044,
          4.133848712177228,
          4.15386791306436,
          4.248959117278245,
          4.434136725484229,
          4.444146325927795,
          4.499199128367412,
          4.5342327299198955,
          4.539237530141678,
          4.559256731028812,
          4.579275931915946,
          4.744434339234797,
          4.784472741009063,
          4.89958314611008,
          5.114789555646764,
          5.159832757642814,
          5.169842358086381,
          5.239909561191348,
          5.395058368066632,
          5.415077568953766,
          5.465125571171599,
          5.510168773167649,
          5.57022637582905,
          5.66031277982115,
          5.69034158115185,
          5.695346381373634,
          5.725375182704334,
          5.755403984035033,
          5.790437585587517,
          5.845490388027134,
          5.875519189357834,
          5.940581592241018,
          5.965605593349935,
          6.085720798672735,
          6.120754400225218,
          6.250879205991586,
          6.255884006213369,
          6.295922407987636,
          6.34597041020547,
          6.416037613310436,
          6.426047213754003,
          6.431052013975786,
          6.43605681419757,
          6.491109616637186,
          6.491109616637186,
          6.491109616637186,
          6.606220021738204,
          6.616229622181771,
          6.626239222625337,
          6.701311225952088,
          6.711320826395654,
          6.711320826395654,
          6.766373628835271,
          6.836440831940237,
          6.861464833049155,
          6.896498434601638,
          6.906508035045205,
          6.906508035045205,
          6.941541636597688,
          6.946546436819472,
          6.951551237041255,
          6.976575238150171,
          7.026623240368005,
          7.041637641033356,
          7.15174324591259,
          7.15174324591259,
          7.2918776521225235,
          7.311896853009657,
          7.43701685855424,
          7.46704565988494,
          7.487064860772074,
          7.502079261437424,
          7.557132063877041,
          7.597170465651308,
          7.607180066094875,
          7.607180066094875,
          7.627199266982008,
          7.697266470086975,
          7.722290471195891,
          7.797362474522642,
          7.797362474522642,
          7.877439278071176,
          7.882444078292958,
          7.9224824800672256,
          7.982540082728626,
          8.007564083837542,
          8.072626486720726,
          8.12267448893856,
          8.162712890712827,
          8.192741692043526,
          8.19774649226531,
          8.207756092708877,
          8.312856897366327,
          8.327871298031678,
          8.357900099362377,
          8.392933700914861,
          8.473010504463396,
          8.503039305794095,
          8.518053706459444,
          8.553087308011929,
          8.558092108233712,
          8.57310650889906,
          8.593125709786193,
          8.608140110451544,
          8.628159311338678,
          8.67320251333473,
          8.858380121540712,
          8.953471325754595,
          9.133644133738798,
          9.188696936178413,
          9.208716137065547,
          9.554047352368599,
          9.739224960574582,
          10.114584977208334
         ],
         "yaxis": "y"
        }
       ],
       "layout": {
        "legend": {
         "tracegroupgap": 0
        },
        "template": {
         "data": {
          "bar": [
           {
            "error_x": {
             "color": "#2a3f5f"
            },
            "error_y": {
             "color": "#2a3f5f"
            },
            "marker": {
             "line": {
              "color": "#E5ECF6",
              "width": 0.5
             },
             "pattern": {
              "fillmode": "overlay",
              "size": 10,
              "solidity": 0.2
             }
            },
            "type": "bar"
           }
          ],
          "barpolar": [
           {
            "marker": {
             "line": {
              "color": "#E5ECF6",
              "width": 0.5
             },
             "pattern": {
              "fillmode": "overlay",
              "size": 10,
              "solidity": 0.2
             }
            },
            "type": "barpolar"
           }
          ],
          "carpet": [
           {
            "aaxis": {
             "endlinecolor": "#2a3f5f",
             "gridcolor": "white",
             "linecolor": "white",
             "minorgridcolor": "white",
             "startlinecolor": "#2a3f5f"
            },
            "baxis": {
             "endlinecolor": "#2a3f5f",
             "gridcolor": "white",
             "linecolor": "white",
             "minorgridcolor": "white",
             "startlinecolor": "#2a3f5f"
            },
            "type": "carpet"
           }
          ],
          "choropleth": [
           {
            "colorbar": {
             "outlinewidth": 0,
             "ticks": ""
            },
            "type": "choropleth"
           }
          ],
          "contour": [
           {
            "colorbar": {
             "outlinewidth": 0,
             "ticks": ""
            },
            "colorscale": [
             [
              0,
              "#0d0887"
             ],
             [
              0.1111111111111111,
              "#46039f"
             ],
             [
              0.2222222222222222,
              "#7201a8"
             ],
             [
              0.3333333333333333,
              "#9c179e"
             ],
             [
              0.4444444444444444,
              "#bd3786"
             ],
             [
              0.5555555555555556,
              "#d8576b"
             ],
             [
              0.6666666666666666,
              "#ed7953"
             ],
             [
              0.7777777777777778,
              "#fb9f3a"
             ],
             [
              0.8888888888888888,
              "#fdca26"
             ],
             [
              1,
              "#f0f921"
             ]
            ],
            "type": "contour"
           }
          ],
          "contourcarpet": [
           {
            "colorbar": {
             "outlinewidth": 0,
             "ticks": ""
            },
            "type": "contourcarpet"
           }
          ],
          "heatmap": [
           {
            "colorbar": {
             "outlinewidth": 0,
             "ticks": ""
            },
            "colorscale": [
             [
              0,
              "#0d0887"
             ],
             [
              0.1111111111111111,
              "#46039f"
             ],
             [
              0.2222222222222222,
              "#7201a8"
             ],
             [
              0.3333333333333333,
              "#9c179e"
             ],
             [
              0.4444444444444444,
              "#bd3786"
             ],
             [
              0.5555555555555556,
              "#d8576b"
             ],
             [
              0.6666666666666666,
              "#ed7953"
             ],
             [
              0.7777777777777778,
              "#fb9f3a"
             ],
             [
              0.8888888888888888,
              "#fdca26"
             ],
             [
              1,
              "#f0f921"
             ]
            ],
            "type": "heatmap"
           }
          ],
          "heatmapgl": [
           {
            "colorbar": {
             "outlinewidth": 0,
             "ticks": ""
            },
            "colorscale": [
             [
              0,
              "#0d0887"
             ],
             [
              0.1111111111111111,
              "#46039f"
             ],
             [
              0.2222222222222222,
              "#7201a8"
             ],
             [
              0.3333333333333333,
              "#9c179e"
             ],
             [
              0.4444444444444444,
              "#bd3786"
             ],
             [
              0.5555555555555556,
              "#d8576b"
             ],
             [
              0.6666666666666666,
              "#ed7953"
             ],
             [
              0.7777777777777778,
              "#fb9f3a"
             ],
             [
              0.8888888888888888,
              "#fdca26"
             ],
             [
              1,
              "#f0f921"
             ]
            ],
            "type": "heatmapgl"
           }
          ],
          "histogram": [
           {
            "marker": {
             "pattern": {
              "fillmode": "overlay",
              "size": 10,
              "solidity": 0.2
             }
            },
            "type": "histogram"
           }
          ],
          "histogram2d": [
           {
            "colorbar": {
             "outlinewidth": 0,
             "ticks": ""
            },
            "colorscale": [
             [
              0,
              "#0d0887"
             ],
             [
              0.1111111111111111,
              "#46039f"
             ],
             [
              0.2222222222222222,
              "#7201a8"
             ],
             [
              0.3333333333333333,
              "#9c179e"
             ],
             [
              0.4444444444444444,
              "#bd3786"
             ],
             [
              0.5555555555555556,
              "#d8576b"
             ],
             [
              0.6666666666666666,
              "#ed7953"
             ],
             [
              0.7777777777777778,
              "#fb9f3a"
             ],
             [
              0.8888888888888888,
              "#fdca26"
             ],
             [
              1,
              "#f0f921"
             ]
            ],
            "type": "histogram2d"
           }
          ],
          "histogram2dcontour": [
           {
            "colorbar": {
             "outlinewidth": 0,
             "ticks": ""
            },
            "colorscale": [
             [
              0,
              "#0d0887"
             ],
             [
              0.1111111111111111,
              "#46039f"
             ],
             [
              0.2222222222222222,
              "#7201a8"
             ],
             [
              0.3333333333333333,
              "#9c179e"
             ],
             [
              0.4444444444444444,
              "#bd3786"
             ],
             [
              0.5555555555555556,
              "#d8576b"
             ],
             [
              0.6666666666666666,
              "#ed7953"
             ],
             [
              0.7777777777777778,
              "#fb9f3a"
             ],
             [
              0.8888888888888888,
              "#fdca26"
             ],
             [
              1,
              "#f0f921"
             ]
            ],
            "type": "histogram2dcontour"
           }
          ],
          "mesh3d": [
           {
            "colorbar": {
             "outlinewidth": 0,
             "ticks": ""
            },
            "type": "mesh3d"
           }
          ],
          "parcoords": [
           {
            "line": {
             "colorbar": {
              "outlinewidth": 0,
              "ticks": ""
             }
            },
            "type": "parcoords"
           }
          ],
          "pie": [
           {
            "automargin": true,
            "type": "pie"
           }
          ],
          "scatter": [
           {
            "fillpattern": {
             "fillmode": "overlay",
             "size": 10,
             "solidity": 0.2
            },
            "type": "scatter"
           }
          ],
          "scatter3d": [
           {
            "line": {
             "colorbar": {
              "outlinewidth": 0,
              "ticks": ""
             }
            },
            "marker": {
             "colorbar": {
              "outlinewidth": 0,
              "ticks": ""
             }
            },
            "type": "scatter3d"
           }
          ],
          "scattercarpet": [
           {
            "marker": {
             "colorbar": {
              "outlinewidth": 0,
              "ticks": ""
             }
            },
            "type": "scattercarpet"
           }
          ],
          "scattergeo": [
           {
            "marker": {
             "colorbar": {
              "outlinewidth": 0,
              "ticks": ""
             }
            },
            "type": "scattergeo"
           }
          ],
          "scattergl": [
           {
            "marker": {
             "colorbar": {
              "outlinewidth": 0,
              "ticks": ""
             }
            },
            "type": "scattergl"
           }
          ],
          "scattermapbox": [
           {
            "marker": {
             "colorbar": {
              "outlinewidth": 0,
              "ticks": ""
             }
            },
            "type": "scattermapbox"
           }
          ],
          "scatterpolar": [
           {
            "marker": {
             "colorbar": {
              "outlinewidth": 0,
              "ticks": ""
             }
            },
            "type": "scatterpolar"
           }
          ],
          "scatterpolargl": [
           {
            "marker": {
             "colorbar": {
              "outlinewidth": 0,
              "ticks": ""
             }
            },
            "type": "scatterpolargl"
           }
          ],
          "scatterternary": [
           {
            "marker": {
             "colorbar": {
              "outlinewidth": 0,
              "ticks": ""
             }
            },
            "type": "scatterternary"
           }
          ],
          "surface": [
           {
            "colorbar": {
             "outlinewidth": 0,
             "ticks": ""
            },
            "colorscale": [
             [
              0,
              "#0d0887"
             ],
             [
              0.1111111111111111,
              "#46039f"
             ],
             [
              0.2222222222222222,
              "#7201a8"
             ],
             [
              0.3333333333333333,
              "#9c179e"
             ],
             [
              0.4444444444444444,
              "#bd3786"
             ],
             [
              0.5555555555555556,
              "#d8576b"
             ],
             [
              0.6666666666666666,
              "#ed7953"
             ],
             [
              0.7777777777777778,
              "#fb9f3a"
             ],
             [
              0.8888888888888888,
              "#fdca26"
             ],
             [
              1,
              "#f0f921"
             ]
            ],
            "type": "surface"
           }
          ],
          "table": [
           {
            "cells": {
             "fill": {
              "color": "#EBF0F8"
             },
             "line": {
              "color": "white"
             }
            },
            "header": {
             "fill": {
              "color": "#C8D4E3"
             },
             "line": {
              "color": "white"
             }
            },
            "type": "table"
           }
          ]
         },
         "layout": {
          "annotationdefaults": {
           "arrowcolor": "#2a3f5f",
           "arrowhead": 0,
           "arrowwidth": 1
          },
          "autotypenumbers": "strict",
          "coloraxis": {
           "colorbar": {
            "outlinewidth": 0,
            "ticks": ""
           }
          },
          "colorscale": {
           "diverging": [
            [
             0,
             "#8e0152"
            ],
            [
             0.1,
             "#c51b7d"
            ],
            [
             0.2,
             "#de77ae"
            ],
            [
             0.3,
             "#f1b6da"
            ],
            [
             0.4,
             "#fde0ef"
            ],
            [
             0.5,
             "#f7f7f7"
            ],
            [
             0.6,
             "#e6f5d0"
            ],
            [
             0.7,
             "#b8e186"
            ],
            [
             0.8,
             "#7fbc41"
            ],
            [
             0.9,
             "#4d9221"
            ],
            [
             1,
             "#276419"
            ]
           ],
           "sequential": [
            [
             0,
             "#0d0887"
            ],
            [
             0.1111111111111111,
             "#46039f"
            ],
            [
             0.2222222222222222,
             "#7201a8"
            ],
            [
             0.3333333333333333,
             "#9c179e"
            ],
            [
             0.4444444444444444,
             "#bd3786"
            ],
            [
             0.5555555555555556,
             "#d8576b"
            ],
            [
             0.6666666666666666,
             "#ed7953"
            ],
            [
             0.7777777777777778,
             "#fb9f3a"
            ],
            [
             0.8888888888888888,
             "#fdca26"
            ],
            [
             1,
             "#f0f921"
            ]
           ],
           "sequentialminus": [
            [
             0,
             "#0d0887"
            ],
            [
             0.1111111111111111,
             "#46039f"
            ],
            [
             0.2222222222222222,
             "#7201a8"
            ],
            [
             0.3333333333333333,
             "#9c179e"
            ],
            [
             0.4444444444444444,
             "#bd3786"
            ],
            [
             0.5555555555555556,
             "#d8576b"
            ],
            [
             0.6666666666666666,
             "#ed7953"
            ],
            [
             0.7777777777777778,
             "#fb9f3a"
            ],
            [
             0.8888888888888888,
             "#fdca26"
            ],
            [
             1,
             "#f0f921"
            ]
           ]
          },
          "colorway": [
           "#636efa",
           "#EF553B",
           "#00cc96",
           "#ab63fa",
           "#FFA15A",
           "#19d3f3",
           "#FF6692",
           "#B6E880",
           "#FF97FF",
           "#FECB52"
          ],
          "font": {
           "color": "#2a3f5f"
          },
          "geo": {
           "bgcolor": "white",
           "lakecolor": "white",
           "landcolor": "#E5ECF6",
           "showlakes": true,
           "showland": true,
           "subunitcolor": "white"
          },
          "hoverlabel": {
           "align": "left"
          },
          "hovermode": "closest",
          "mapbox": {
           "style": "light"
          },
          "paper_bgcolor": "white",
          "plot_bgcolor": "#E5ECF6",
          "polar": {
           "angularaxis": {
            "gridcolor": "white",
            "linecolor": "white",
            "ticks": ""
           },
           "bgcolor": "#E5ECF6",
           "radialaxis": {
            "gridcolor": "white",
            "linecolor": "white",
            "ticks": ""
           }
          },
          "scene": {
           "xaxis": {
            "backgroundcolor": "#E5ECF6",
            "gridcolor": "white",
            "gridwidth": 2,
            "linecolor": "white",
            "showbackground": true,
            "ticks": "",
            "zerolinecolor": "white"
           },
           "yaxis": {
            "backgroundcolor": "#E5ECF6",
            "gridcolor": "white",
            "gridwidth": 2,
            "linecolor": "white",
            "showbackground": true,
            "ticks": "",
            "zerolinecolor": "white"
           },
           "zaxis": {
            "backgroundcolor": "#E5ECF6",
            "gridcolor": "white",
            "gridwidth": 2,
            "linecolor": "white",
            "showbackground": true,
            "ticks": "",
            "zerolinecolor": "white"
           }
          },
          "shapedefaults": {
           "line": {
            "color": "#2a3f5f"
           }
          },
          "ternary": {
           "aaxis": {
            "gridcolor": "white",
            "linecolor": "white",
            "ticks": ""
           },
           "baxis": {
            "gridcolor": "white",
            "linecolor": "white",
            "ticks": ""
           },
           "bgcolor": "#E5ECF6",
           "caxis": {
            "gridcolor": "white",
            "linecolor": "white",
            "ticks": ""
           }
          },
          "title": {
           "x": 0.05
          },
          "xaxis": {
           "automargin": true,
           "gridcolor": "white",
           "linecolor": "white",
           "ticks": "",
           "title": {
            "standoff": 15
           },
           "zerolinecolor": "white",
           "zerolinewidth": 2
          },
          "yaxis": {
           "automargin": true,
           "gridcolor": "white",
           "linecolor": "white",
           "ticks": "",
           "title": {
            "standoff": 15
           },
           "zerolinecolor": "white",
           "zerolinewidth": 2
          }
         }
        },
        "title": {
         "text": "Alcohol Consumption vs GDP per Capita"
        },
        "xaxis": {
         "anchor": "y",
         "domain": [
          0,
          1
         ],
         "title": {
          "text": "GDP Per Capita"
         }
        },
        "yaxis": {
         "anchor": "x",
         "domain": [
          0,
          1
         ],
         "title": {
          "text": "Average Alcohol Consumption (L/Year)"
         }
        }
       }
      }
     },
     "metadata": {},
     "output_type": "display_data"
    }
   ],
   "source": [
    "fig2 = px.scatter(df, x='GDP Per Capita', y='Alcohol', labels={'Alcohol':'Average Alcohol Consumption (L/Year)'}, trendline=\"ols\", title='Alcohol Consumption vs GDP per Capita')\n",
    "fig2.show()\n",
    "fig2.write_html('graphs/alcohol_gdp.html')"
   ]
  },
  {
   "cell_type": "code",
   "execution_count": 95,
   "metadata": {},
   "outputs": [
    {
     "data": {
      "application/vnd.plotly.v1+json": {
       "config": {
        "plotlyServerURL": "https://plotly.com"
       },
       "data": [
        {
         "coloraxis": "coloraxis",
         "geo": "geo",
         "hovertemplate": "<b>%{hovertext}</b><br><br>Iso=%{location}<br>Alcohol=%{z}<extra></extra>",
         "hovertext": [
          "Latvia",
          "Moldova",
          "Germany",
          "Lithuania",
          "Ireland",
          "Spain",
          "Uganda",
          "Bulgaria",
          "Luxembourg",
          "Romania",
          "Montenegro",
          "France",
          "Slovenia",
          "Portugal",
          "Laos",
          "Tanzania",
          "Austria",
          "Poland",
          "United Kingdom",
          "Switzerland",
          "Hungary",
          "Slovakia",
          "Burkina Faso",
          "Belarus",
          "Cyprus",
          "Belgium",
          "Estonia",
          "New Zealand",
          "Finland",
          "Greece",
          "Russia",
          "Australia",
          "Denmark",
          "Japan",
          "United States",
          "Netherlands",
          "Georgia",
          "Argentina",
          "South Africa",
          "Iceland",
          "Sweden",
          "Chile",
          "Serbia",
          "Canada",
          "Croatia",
          "Thailand",
          "South Korea",
          "Ukraine",
          "Malta",
          "Gabon",
          "Italy",
          "Rwanda",
          "Vietnam",
          "Cambodia",
          "Bosnia and Herzegovina",
          "Panama",
          "Burundi",
          "Brazil",
          "Norway",
          "Philippines",
          "Paraguay",
          "Uruguay",
          "Albania",
          "Peru",
          "Dominican Republic",
          "Botswana",
          "North Macedonia",
          "Nigeria",
          "China",
          "Mongolia",
          "India",
          "Cameroon",
          "Colombia",
          "Liberia",
          "Sierra Leone",
          "Lesotho",
          "Nicaragua",
          "Mexico",
          "Kazakhstan",
          "Kyrgyzstan",
          "Mauritius",
          "Armenia",
          "Zimbabwe",
          "Zambia",
          "Israel",
          "Jamaica",
          "El Salvador",
          "Malawi",
          "Costa Rica",
          "Honduras",
          "Bolivia",
          "United Arab Emirates",
          "Venezuela",
          "Gambia",
          "Ecuador",
          "Namibia",
          "Turkmenistan",
          "Ivory Coast",
          "Haiti",
          "Sri Lanka",
          "Ghana",
          "Mozambique",
          "Togo",
          "Uzbekistan",
          "Benin",
          "Ethiopia",
          "Kenya",
          "Myanmar",
          "Tunisia",
          "Singapore",
          "Madagascar",
          "Turkey",
          "Central African Republic",
          "Guatemala",
          "Lebanon",
          "Qatar",
          "Mali",
          "Chad",
          "Comoros",
          "Bahrain",
          "Guinea",
          "Azerbaijan",
          "Malaysia",
          "Tajikistan",
          "Senegal",
          "Algeria",
          "Nepal",
          "Jordan",
          "Niger",
          "Morocco",
          "Iraq",
          "Indonesia",
          "Bhutan",
          "Syria",
          "Egypt",
          "Mauritania",
          "Bangladesh"
         ],
         "locations": [
          "LVA",
          "MDA",
          "DEU",
          "LTU",
          "IRL",
          "ESP",
          "UGA",
          "BGR",
          "LUX",
          "ROU",
          "MNE",
          "FRA",
          "SVN",
          "PRT",
          "LAO",
          "TZA",
          "AUT",
          "POL",
          "GBR",
          "CHE",
          "HUN",
          "SVK",
          "BFA",
          "BLR",
          "CYP",
          "BEL",
          "EST",
          "NZL",
          "FIN",
          "GRC",
          "RUS",
          "AUS",
          "DNK",
          "JPN",
          "USA",
          "NLD",
          "GEO",
          "ARG",
          "ZAF",
          "ISL",
          "SWE",
          "CHL",
          "SRB",
          "CAN",
          "HRV",
          "THA",
          "KOR",
          "UKR",
          "MLT",
          "GAB",
          "ITA",
          "RWA",
          "VNM",
          "KHM",
          "BIH",
          "PAN",
          "BDI",
          "BRA",
          "NOR",
          "PHL",
          "PRY",
          "URY",
          "ALB",
          "PER",
          "DMA",
          "BWA",
          "MKD",
          "NGA",
          "CHN",
          "MNG",
          "IND",
          "CMR",
          "COL",
          "LBR",
          "SLE",
          "LSO",
          "NIC",
          "MEX",
          "KAZ",
          "KGZ",
          "MUS",
          "ARM",
          "ZWE",
          "ZMB",
          "ISR",
          "JAM",
          "SLV",
          "MWI",
          "CRI",
          "HND",
          "BOL",
          "ARE",
          "VEN",
          "GMB",
          "ECU",
          "NAM",
          "TKM",
          "CIV",
          "HTI",
          "LKA",
          "GHA",
          "MOZ",
          "TGO",
          "UZB",
          "BEN",
          "ETH",
          "KEN",
          "MMR",
          "TUN",
          "SGP",
          "MDG",
          "TUR",
          "CAF",
          "GTM",
          "LBN",
          "QAT",
          "MLI",
          "TCD",
          "COM",
          "BHR",
          "GIN",
          "AZE",
          "MYS",
          "TJK",
          "SEN",
          "DZA",
          "NPL",
          "JOR",
          "NER",
          "MAR",
          "IRQ",
          "IDN",
          "BTN",
          "SYR",
          "EGY",
          "MRT",
          "BGD"
         ],
         "name": "",
         "type": "choropleth",
         "z": [
          13.19,
          12.85,
          12.79,
          12.78,
          12.75,
          12.67,
          12.48,
          12.46,
          12.45,
          12.34,
          12.24,
          12.23,
          12.11,
          12.09,
          12.08,
          12.04,
          11.93,
          11.89,
          11.45,
          11.23,
          11.07,
          11.06,
          11.05,
          10.96,
          10.8,
          10.8,
          10.75,
          10.69,
          10.65,
          10.5,
          10.5,
          10.36,
          10.13,
          10.09,
          9.97,
          9.67,
          9.47,
          9.45,
          9.45,
          9.21,
          9.04,
          8.95,
          8.85,
          8.81,
          8.73,
          8.5,
          8.45,
          8.34,
          8.27,
          8.08,
          8.01,
          7.96,
          7.93,
          7.84,
          7.81,
          7.77,
          7.45,
          7.32,
          7.14,
          7.02,
          7.01,
          6.92,
          6.82,
          6.78,
          6.68,
          6.61,
          6.43,
          6.19,
          6.04,
          5.9,
          5.61,
          5.52,
          5.45,
          5.37,
          5.31,
          5.08,
          5.07,
          5.05,
          5,
          4.85,
          4.78,
          4.67,
          4.52,
          4.46,
          4.38,
          4.16,
          4.09,
          4.08,
          4.07,
          3.93,
          3.91,
          3.85,
          3.56,
          3.36,
          3.27,
          3.15,
          3.09,
          3.04,
          3.02,
          2.87,
          2.78,
          2.69,
          2.66,
          2.61,
          2.23,
          2.2,
          2.15,
          2.14,
          2.04,
          2,
          1.98,
          1.77,
          1.71,
          1.63,
          1.53,
          1.51,
          1.31,
          1.26,
          1.15,
          1.13,
          1.09,
          0.98,
          0.93,
          0.88,
          0.73,
          0.63,
          0.62,
          0.52,
          0.52,
          0.49,
          0.37,
          0.22,
          0.21,
          0.19,
          0.14,
          0,
          0
         ]
        }
       ],
       "layout": {
        "coloraxis": {
         "cmax": 14,
         "cmin": 0,
         "colorbar": {
          "title": {
           "text": "Alcohol"
          }
         },
         "colorscale": [
          [
           0,
           "#0d0887"
          ],
          [
           0.1111111111111111,
           "#46039f"
          ],
          [
           0.2222222222222222,
           "#7201a8"
          ],
          [
           0.3333333333333333,
           "#9c179e"
          ],
          [
           0.4444444444444444,
           "#bd3786"
          ],
          [
           0.5555555555555556,
           "#d8576b"
          ],
          [
           0.6666666666666666,
           "#ed7953"
          ],
          [
           0.7777777777777778,
           "#fb9f3a"
          ],
          [
           0.8888888888888888,
           "#fdca26"
          ],
          [
           1,
           "#f0f921"
          ]
         ]
        },
        "geo": {
         "center": {},
         "domain": {
          "x": [
           0,
           1
          ],
          "y": [
           0,
           1
          ]
         }
        },
        "legend": {
         "tracegroupgap": 0
        },
        "template": {
         "data": {
          "bar": [
           {
            "error_x": {
             "color": "#2a3f5f"
            },
            "error_y": {
             "color": "#2a3f5f"
            },
            "marker": {
             "line": {
              "color": "#E5ECF6",
              "width": 0.5
             },
             "pattern": {
              "fillmode": "overlay",
              "size": 10,
              "solidity": 0.2
             }
            },
            "type": "bar"
           }
          ],
          "barpolar": [
           {
            "marker": {
             "line": {
              "color": "#E5ECF6",
              "width": 0.5
             },
             "pattern": {
              "fillmode": "overlay",
              "size": 10,
              "solidity": 0.2
             }
            },
            "type": "barpolar"
           }
          ],
          "carpet": [
           {
            "aaxis": {
             "endlinecolor": "#2a3f5f",
             "gridcolor": "white",
             "linecolor": "white",
             "minorgridcolor": "white",
             "startlinecolor": "#2a3f5f"
            },
            "baxis": {
             "endlinecolor": "#2a3f5f",
             "gridcolor": "white",
             "linecolor": "white",
             "minorgridcolor": "white",
             "startlinecolor": "#2a3f5f"
            },
            "type": "carpet"
           }
          ],
          "choropleth": [
           {
            "colorbar": {
             "outlinewidth": 0,
             "ticks": ""
            },
            "type": "choropleth"
           }
          ],
          "contour": [
           {
            "colorbar": {
             "outlinewidth": 0,
             "ticks": ""
            },
            "colorscale": [
             [
              0,
              "#0d0887"
             ],
             [
              0.1111111111111111,
              "#46039f"
             ],
             [
              0.2222222222222222,
              "#7201a8"
             ],
             [
              0.3333333333333333,
              "#9c179e"
             ],
             [
              0.4444444444444444,
              "#bd3786"
             ],
             [
              0.5555555555555556,
              "#d8576b"
             ],
             [
              0.6666666666666666,
              "#ed7953"
             ],
             [
              0.7777777777777778,
              "#fb9f3a"
             ],
             [
              0.8888888888888888,
              "#fdca26"
             ],
             [
              1,
              "#f0f921"
             ]
            ],
            "type": "contour"
           }
          ],
          "contourcarpet": [
           {
            "colorbar": {
             "outlinewidth": 0,
             "ticks": ""
            },
            "type": "contourcarpet"
           }
          ],
          "heatmap": [
           {
            "colorbar": {
             "outlinewidth": 0,
             "ticks": ""
            },
            "colorscale": [
             [
              0,
              "#0d0887"
             ],
             [
              0.1111111111111111,
              "#46039f"
             ],
             [
              0.2222222222222222,
              "#7201a8"
             ],
             [
              0.3333333333333333,
              "#9c179e"
             ],
             [
              0.4444444444444444,
              "#bd3786"
             ],
             [
              0.5555555555555556,
              "#d8576b"
             ],
             [
              0.6666666666666666,
              "#ed7953"
             ],
             [
              0.7777777777777778,
              "#fb9f3a"
             ],
             [
              0.8888888888888888,
              "#fdca26"
             ],
             [
              1,
              "#f0f921"
             ]
            ],
            "type": "heatmap"
           }
          ],
          "heatmapgl": [
           {
            "colorbar": {
             "outlinewidth": 0,
             "ticks": ""
            },
            "colorscale": [
             [
              0,
              "#0d0887"
             ],
             [
              0.1111111111111111,
              "#46039f"
             ],
             [
              0.2222222222222222,
              "#7201a8"
             ],
             [
              0.3333333333333333,
              "#9c179e"
             ],
             [
              0.4444444444444444,
              "#bd3786"
             ],
             [
              0.5555555555555556,
              "#d8576b"
             ],
             [
              0.6666666666666666,
              "#ed7953"
             ],
             [
              0.7777777777777778,
              "#fb9f3a"
             ],
             [
              0.8888888888888888,
              "#fdca26"
             ],
             [
              1,
              "#f0f921"
             ]
            ],
            "type": "heatmapgl"
           }
          ],
          "histogram": [
           {
            "marker": {
             "pattern": {
              "fillmode": "overlay",
              "size": 10,
              "solidity": 0.2
             }
            },
            "type": "histogram"
           }
          ],
          "histogram2d": [
           {
            "colorbar": {
             "outlinewidth": 0,
             "ticks": ""
            },
            "colorscale": [
             [
              0,
              "#0d0887"
             ],
             [
              0.1111111111111111,
              "#46039f"
             ],
             [
              0.2222222222222222,
              "#7201a8"
             ],
             [
              0.3333333333333333,
              "#9c179e"
             ],
             [
              0.4444444444444444,
              "#bd3786"
             ],
             [
              0.5555555555555556,
              "#d8576b"
             ],
             [
              0.6666666666666666,
              "#ed7953"
             ],
             [
              0.7777777777777778,
              "#fb9f3a"
             ],
             [
              0.8888888888888888,
              "#fdca26"
             ],
             [
              1,
              "#f0f921"
             ]
            ],
            "type": "histogram2d"
           }
          ],
          "histogram2dcontour": [
           {
            "colorbar": {
             "outlinewidth": 0,
             "ticks": ""
            },
            "colorscale": [
             [
              0,
              "#0d0887"
             ],
             [
              0.1111111111111111,
              "#46039f"
             ],
             [
              0.2222222222222222,
              "#7201a8"
             ],
             [
              0.3333333333333333,
              "#9c179e"
             ],
             [
              0.4444444444444444,
              "#bd3786"
             ],
             [
              0.5555555555555556,
              "#d8576b"
             ],
             [
              0.6666666666666666,
              "#ed7953"
             ],
             [
              0.7777777777777778,
              "#fb9f3a"
             ],
             [
              0.8888888888888888,
              "#fdca26"
             ],
             [
              1,
              "#f0f921"
             ]
            ],
            "type": "histogram2dcontour"
           }
          ],
          "mesh3d": [
           {
            "colorbar": {
             "outlinewidth": 0,
             "ticks": ""
            },
            "type": "mesh3d"
           }
          ],
          "parcoords": [
           {
            "line": {
             "colorbar": {
              "outlinewidth": 0,
              "ticks": ""
             }
            },
            "type": "parcoords"
           }
          ],
          "pie": [
           {
            "automargin": true,
            "type": "pie"
           }
          ],
          "scatter": [
           {
            "fillpattern": {
             "fillmode": "overlay",
             "size": 10,
             "solidity": 0.2
            },
            "type": "scatter"
           }
          ],
          "scatter3d": [
           {
            "line": {
             "colorbar": {
              "outlinewidth": 0,
              "ticks": ""
             }
            },
            "marker": {
             "colorbar": {
              "outlinewidth": 0,
              "ticks": ""
             }
            },
            "type": "scatter3d"
           }
          ],
          "scattercarpet": [
           {
            "marker": {
             "colorbar": {
              "outlinewidth": 0,
              "ticks": ""
             }
            },
            "type": "scattercarpet"
           }
          ],
          "scattergeo": [
           {
            "marker": {
             "colorbar": {
              "outlinewidth": 0,
              "ticks": ""
             }
            },
            "type": "scattergeo"
           }
          ],
          "scattergl": [
           {
            "marker": {
             "colorbar": {
              "outlinewidth": 0,
              "ticks": ""
             }
            },
            "type": "scattergl"
           }
          ],
          "scattermapbox": [
           {
            "marker": {
             "colorbar": {
              "outlinewidth": 0,
              "ticks": ""
             }
            },
            "type": "scattermapbox"
           }
          ],
          "scatterpolar": [
           {
            "marker": {
             "colorbar": {
              "outlinewidth": 0,
              "ticks": ""
             }
            },
            "type": "scatterpolar"
           }
          ],
          "scatterpolargl": [
           {
            "marker": {
             "colorbar": {
              "outlinewidth": 0,
              "ticks": ""
             }
            },
            "type": "scatterpolargl"
           }
          ],
          "scatterternary": [
           {
            "marker": {
             "colorbar": {
              "outlinewidth": 0,
              "ticks": ""
             }
            },
            "type": "scatterternary"
           }
          ],
          "surface": [
           {
            "colorbar": {
             "outlinewidth": 0,
             "ticks": ""
            },
            "colorscale": [
             [
              0,
              "#0d0887"
             ],
             [
              0.1111111111111111,
              "#46039f"
             ],
             [
              0.2222222222222222,
              "#7201a8"
             ],
             [
              0.3333333333333333,
              "#9c179e"
             ],
             [
              0.4444444444444444,
              "#bd3786"
             ],
             [
              0.5555555555555556,
              "#d8576b"
             ],
             [
              0.6666666666666666,
              "#ed7953"
             ],
             [
              0.7777777777777778,
              "#fb9f3a"
             ],
             [
              0.8888888888888888,
              "#fdca26"
             ],
             [
              1,
              "#f0f921"
             ]
            ],
            "type": "surface"
           }
          ],
          "table": [
           {
            "cells": {
             "fill": {
              "color": "#EBF0F8"
             },
             "line": {
              "color": "white"
             }
            },
            "header": {
             "fill": {
              "color": "#C8D4E3"
             },
             "line": {
              "color": "white"
             }
            },
            "type": "table"
           }
          ]
         },
         "layout": {
          "annotationdefaults": {
           "arrowcolor": "#2a3f5f",
           "arrowhead": 0,
           "arrowwidth": 1
          },
          "autotypenumbers": "strict",
          "coloraxis": {
           "colorbar": {
            "outlinewidth": 0,
            "ticks": ""
           }
          },
          "colorscale": {
           "diverging": [
            [
             0,
             "#8e0152"
            ],
            [
             0.1,
             "#c51b7d"
            ],
            [
             0.2,
             "#de77ae"
            ],
            [
             0.3,
             "#f1b6da"
            ],
            [
             0.4,
             "#fde0ef"
            ],
            [
             0.5,
             "#f7f7f7"
            ],
            [
             0.6,
             "#e6f5d0"
            ],
            [
             0.7,
             "#b8e186"
            ],
            [
             0.8,
             "#7fbc41"
            ],
            [
             0.9,
             "#4d9221"
            ],
            [
             1,
             "#276419"
            ]
           ],
           "sequential": [
            [
             0,
             "#0d0887"
            ],
            [
             0.1111111111111111,
             "#46039f"
            ],
            [
             0.2222222222222222,
             "#7201a8"
            ],
            [
             0.3333333333333333,
             "#9c179e"
            ],
            [
             0.4444444444444444,
             "#bd3786"
            ],
            [
             0.5555555555555556,
             "#d8576b"
            ],
            [
             0.6666666666666666,
             "#ed7953"
            ],
            [
             0.7777777777777778,
             "#fb9f3a"
            ],
            [
             0.8888888888888888,
             "#fdca26"
            ],
            [
             1,
             "#f0f921"
            ]
           ],
           "sequentialminus": [
            [
             0,
             "#0d0887"
            ],
            [
             0.1111111111111111,
             "#46039f"
            ],
            [
             0.2222222222222222,
             "#7201a8"
            ],
            [
             0.3333333333333333,
             "#9c179e"
            ],
            [
             0.4444444444444444,
             "#bd3786"
            ],
            [
             0.5555555555555556,
             "#d8576b"
            ],
            [
             0.6666666666666666,
             "#ed7953"
            ],
            [
             0.7777777777777778,
             "#fb9f3a"
            ],
            [
             0.8888888888888888,
             "#fdca26"
            ],
            [
             1,
             "#f0f921"
            ]
           ]
          },
          "colorway": [
           "#636efa",
           "#EF553B",
           "#00cc96",
           "#ab63fa",
           "#FFA15A",
           "#19d3f3",
           "#FF6692",
           "#B6E880",
           "#FF97FF",
           "#FECB52"
          ],
          "font": {
           "color": "#2a3f5f"
          },
          "geo": {
           "bgcolor": "white",
           "lakecolor": "white",
           "landcolor": "#E5ECF6",
           "showlakes": true,
           "showland": true,
           "subunitcolor": "white"
          },
          "hoverlabel": {
           "align": "left"
          },
          "hovermode": "closest",
          "mapbox": {
           "style": "light"
          },
          "paper_bgcolor": "white",
          "plot_bgcolor": "#E5ECF6",
          "polar": {
           "angularaxis": {
            "gridcolor": "white",
            "linecolor": "white",
            "ticks": ""
           },
           "bgcolor": "#E5ECF6",
           "radialaxis": {
            "gridcolor": "white",
            "linecolor": "white",
            "ticks": ""
           }
          },
          "scene": {
           "xaxis": {
            "backgroundcolor": "#E5ECF6",
            "gridcolor": "white",
            "gridwidth": 2,
            "linecolor": "white",
            "showbackground": true,
            "ticks": "",
            "zerolinecolor": "white"
           },
           "yaxis": {
            "backgroundcolor": "#E5ECF6",
            "gridcolor": "white",
            "gridwidth": 2,
            "linecolor": "white",
            "showbackground": true,
            "ticks": "",
            "zerolinecolor": "white"
           },
           "zaxis": {
            "backgroundcolor": "#E5ECF6",
            "gridcolor": "white",
            "gridwidth": 2,
            "linecolor": "white",
            "showbackground": true,
            "ticks": "",
            "zerolinecolor": "white"
           }
          },
          "shapedefaults": {
           "line": {
            "color": "#2a3f5f"
           }
          },
          "ternary": {
           "aaxis": {
            "gridcolor": "white",
            "linecolor": "white",
            "ticks": ""
           },
           "baxis": {
            "gridcolor": "white",
            "linecolor": "white",
            "ticks": ""
           },
           "bgcolor": "#E5ECF6",
           "caxis": {
            "gridcolor": "white",
            "linecolor": "white",
            "ticks": ""
           }
          },
          "title": {
           "x": 0.05
          },
          "xaxis": {
           "automargin": true,
           "gridcolor": "white",
           "linecolor": "white",
           "ticks": "",
           "title": {
            "standoff": 15
           },
           "zerolinecolor": "white",
           "zerolinewidth": 2
          },
          "yaxis": {
           "automargin": true,
           "gridcolor": "white",
           "linecolor": "white",
           "ticks": "",
           "title": {
            "standoff": 15
           },
           "zerolinecolor": "white",
           "zerolinewidth": 2
          }
         }
        },
        "title": {
         "text": "Alcohol Consumption by Country"
        }
       }
      }
     },
     "metadata": {},
     "output_type": "display_data"
    }
   ],
   "source": [
    "fig3 = px.choropleth(df, locations='Iso', color='Alcohol', hover_name='Country', range_color=[0, 14], title='Alcohol Consumption by Country')\n",
    "fig3.show()\n",
    "fig3.write_html('graphs/alcohol_consumption_country.html')"
   ]
  },
  {
   "cell_type": "code",
   "execution_count": 96,
   "metadata": {},
   "outputs": [
    {
     "data": {
      "application/vnd.plotly.v1+json": {
       "config": {
        "plotlyServerURL": "https://plotly.com"
       },
       "data": [
        {
         "coloraxis": "coloraxis",
         "geo": "geo",
         "hovertemplate": "<b>%{hovertext}</b><br><br>Iso=%{location}<br>Happiness=%{z}<extra></extra>",
         "hovertext": [
          "Latvia",
          "Moldova",
          "Germany",
          "Lithuania",
          "Ireland",
          "Spain",
          "Uganda",
          "Bulgaria",
          "Luxembourg",
          "Romania",
          "Montenegro",
          "France",
          "Slovenia",
          "Portugal",
          "Laos",
          "Tanzania",
          "Austria",
          "Poland",
          "United Kingdom",
          "Switzerland",
          "Hungary",
          "Slovakia",
          "Burkina Faso",
          "Belarus",
          "Cyprus",
          "Belgium",
          "Estonia",
          "New Zealand",
          "Finland",
          "Greece",
          "Russia",
          "Australia",
          "Denmark",
          "Japan",
          "United States",
          "Netherlands",
          "Georgia",
          "Argentina",
          "South Africa",
          "Iceland",
          "Sweden",
          "Chile",
          "Serbia",
          "Canada",
          "Croatia",
          "Thailand",
          "South Korea",
          "Ukraine",
          "Malta",
          "Gabon",
          "Italy",
          "Rwanda",
          "Vietnam",
          "Cambodia",
          "Bosnia and Herzegovina",
          "Panama",
          "Burundi",
          "Brazil",
          "Norway",
          "Philippines",
          "Paraguay",
          "Uruguay",
          "Albania",
          "Peru",
          "Dominican Republic",
          "Botswana",
          "North Macedonia",
          "Nigeria",
          "China",
          "Mongolia",
          "India",
          "Cameroon",
          "Colombia",
          "Liberia",
          "Sierra Leone",
          "Lesotho",
          "Nicaragua",
          "Mexico",
          "Kazakhstan",
          "Kyrgyzstan",
          "Mauritius",
          "Armenia",
          "Zimbabwe",
          "Zambia",
          "Israel",
          "Jamaica",
          "El Salvador",
          "Malawi",
          "Costa Rica",
          "Honduras",
          "Bolivia",
          "United Arab Emirates",
          "Venezuela",
          "Gambia",
          "Ecuador",
          "Namibia",
          "Turkmenistan",
          "Ivory Coast",
          "Haiti",
          "Sri Lanka",
          "Ghana",
          "Mozambique",
          "Togo",
          "Uzbekistan",
          "Benin",
          "Ethiopia",
          "Kenya",
          "Myanmar",
          "Tunisia",
          "Singapore",
          "Madagascar",
          "Turkey",
          "Central African Republic",
          "Guatemala",
          "Lebanon",
          "Qatar",
          "Mali",
          "Chad",
          "Comoros",
          "Bahrain",
          "Guinea",
          "Azerbaijan",
          "Malaysia",
          "Tajikistan",
          "Senegal",
          "Algeria",
          "Nepal",
          "Jordan",
          "Niger",
          "Morocco",
          "Iraq",
          "Indonesia",
          "Bhutan",
          "Syria",
          "Egypt",
          "Mauritania",
          "Bangladesh"
         ],
         "locations": [
          "LVA",
          "MDA",
          "DEU",
          "LTU",
          "IRL",
          "ESP",
          "UGA",
          "BGR",
          "LUX",
          "ROU",
          "MNE",
          "FRA",
          "SVN",
          "PRT",
          "LAO",
          "TZA",
          "AUT",
          "POL",
          "GBR",
          "CHE",
          "HUN",
          "SVK",
          "BFA",
          "BLR",
          "CYP",
          "BEL",
          "EST",
          "NZL",
          "FIN",
          "GRC",
          "RUS",
          "AUS",
          "DNK",
          "JPN",
          "USA",
          "NLD",
          "GEO",
          "ARG",
          "ZAF",
          "ISL",
          "SWE",
          "CHL",
          "SRB",
          "CAN",
          "HRV",
          "THA",
          "KOR",
          "UKR",
          "MLT",
          "GAB",
          "ITA",
          "RWA",
          "VNM",
          "KHM",
          "BIH",
          "PAN",
          "BDI",
          "BRA",
          "NOR",
          "PHL",
          "PRY",
          "URY",
          "ALB",
          "PER",
          "DMA",
          "BWA",
          "MKD",
          "NGA",
          "CHN",
          "MNG",
          "IND",
          "CMR",
          "COL",
          "LBR",
          "SLE",
          "LSO",
          "NIC",
          "MEX",
          "KAZ",
          "KGZ",
          "MUS",
          "ARM",
          "ZWE",
          "ZMB",
          "ISR",
          "JAM",
          "SLV",
          "MWI",
          "CRI",
          "HND",
          "BOL",
          "ARE",
          "VEN",
          "GMB",
          "ECU",
          "NAM",
          "TKM",
          "CIV",
          "HTI",
          "LKA",
          "GHA",
          "MOZ",
          "TGO",
          "UZB",
          "BEN",
          "ETH",
          "KEN",
          "MMR",
          "TUN",
          "SGP",
          "MDG",
          "TUR",
          "CAF",
          "GTM",
          "LBN",
          "QAT",
          "MLI",
          "TCD",
          "COM",
          "BHR",
          "GIN",
          "AZE",
          "MYS",
          "TJK",
          "SEN",
          "DZA",
          "NPL",
          "JOR",
          "NER",
          "MAR",
          "IRQ",
          "IDN",
          "BTN",
          "SYR",
          "EGY",
          "MRT",
          "BGD"
         ],
         "name": "",
         "type": "choropleth",
         "z": [
          5.94,
          5.529,
          6.985,
          6.149,
          7.021,
          6.354,
          4.189,
          5.011,
          7.09,
          6.07,
          5.523,
          6.592,
          6.118,
          5.693,
          4.796,
          3.231,
          7.246,
          6.182,
          7.054,
          7.48,
          5.758,
          6.198,
          4.587,
          5.323,
          6.046,
          6.923,
          5.893,
          7.307,
          7.769,
          5.287,
          5.648,
          7.228,
          7.6,
          5.886,
          6.892,
          7.488,
          4.519,
          6.086,
          4.722,
          7.494,
          7.343,
          6.444,
          5.603,
          7.278,
          5.432,
          6.008,
          5.895,
          4.332,
          6.726,
          4.799,
          6.223,
          3.334,
          5.175,
          4.7,
          5.386,
          6.321,
          3.775,
          6.3,
          7.554,
          5.631,
          5.743,
          6.293,
          4.719,
          5.697,
          5.425,
          3.488,
          5.274,
          5.265,
          5.191,
          5.285,
          4.015,
          5.044,
          6.125,
          3.975,
          4.374,
          3.802,
          6.105,
          6.595,
          5.809,
          5.261,
          5.888,
          4.559,
          3.663,
          4.107,
          7.139,
          5.89,
          6.253,
          3.41,
          7.167,
          5.86,
          5.779,
          6.825,
          4.707,
          4.516,
          6.028,
          4.639,
          5.247,
          4.944,
          3.597,
          4.366,
          4.996,
          4.466,
          4.085,
          6.174,
          4.883,
          4.286,
          4.509,
          4.36,
          4.461,
          6.262,
          3.933,
          5.373,
          3.083,
          6.436,
          5.197,
          6.374,
          4.39,
          4.35,
          3.973,
          6.199,
          4.534,
          5.208,
          5.339,
          5.467,
          4.681,
          5.211,
          4.913,
          4.906,
          4.628,
          5.208,
          4.437,
          5.192,
          5.082,
          3.462,
          4.166,
          4.49,
          4.456
         ]
        }
       ],
       "layout": {
        "coloraxis": {
         "cmax": 8,
         "cmin": 0,
         "colorbar": {
          "title": {
           "text": "Happiness"
          }
         },
         "colorscale": [
          [
           0,
           "#0d0887"
          ],
          [
           0.1111111111111111,
           "#46039f"
          ],
          [
           0.2222222222222222,
           "#7201a8"
          ],
          [
           0.3333333333333333,
           "#9c179e"
          ],
          [
           0.4444444444444444,
           "#bd3786"
          ],
          [
           0.5555555555555556,
           "#d8576b"
          ],
          [
           0.6666666666666666,
           "#ed7953"
          ],
          [
           0.7777777777777778,
           "#fb9f3a"
          ],
          [
           0.8888888888888888,
           "#fdca26"
          ],
          [
           1,
           "#f0f921"
          ]
         ]
        },
        "geo": {
         "center": {},
         "domain": {
          "x": [
           0,
           1
          ],
          "y": [
           0,
           1
          ]
         }
        },
        "legend": {
         "tracegroupgap": 0
        },
        "template": {
         "data": {
          "bar": [
           {
            "error_x": {
             "color": "#2a3f5f"
            },
            "error_y": {
             "color": "#2a3f5f"
            },
            "marker": {
             "line": {
              "color": "#E5ECF6",
              "width": 0.5
             },
             "pattern": {
              "fillmode": "overlay",
              "size": 10,
              "solidity": 0.2
             }
            },
            "type": "bar"
           }
          ],
          "barpolar": [
           {
            "marker": {
             "line": {
              "color": "#E5ECF6",
              "width": 0.5
             },
             "pattern": {
              "fillmode": "overlay",
              "size": 10,
              "solidity": 0.2
             }
            },
            "type": "barpolar"
           }
          ],
          "carpet": [
           {
            "aaxis": {
             "endlinecolor": "#2a3f5f",
             "gridcolor": "white",
             "linecolor": "white",
             "minorgridcolor": "white",
             "startlinecolor": "#2a3f5f"
            },
            "baxis": {
             "endlinecolor": "#2a3f5f",
             "gridcolor": "white",
             "linecolor": "white",
             "minorgridcolor": "white",
             "startlinecolor": "#2a3f5f"
            },
            "type": "carpet"
           }
          ],
          "choropleth": [
           {
            "colorbar": {
             "outlinewidth": 0,
             "ticks": ""
            },
            "type": "choropleth"
           }
          ],
          "contour": [
           {
            "colorbar": {
             "outlinewidth": 0,
             "ticks": ""
            },
            "colorscale": [
             [
              0,
              "#0d0887"
             ],
             [
              0.1111111111111111,
              "#46039f"
             ],
             [
              0.2222222222222222,
              "#7201a8"
             ],
             [
              0.3333333333333333,
              "#9c179e"
             ],
             [
              0.4444444444444444,
              "#bd3786"
             ],
             [
              0.5555555555555556,
              "#d8576b"
             ],
             [
              0.6666666666666666,
              "#ed7953"
             ],
             [
              0.7777777777777778,
              "#fb9f3a"
             ],
             [
              0.8888888888888888,
              "#fdca26"
             ],
             [
              1,
              "#f0f921"
             ]
            ],
            "type": "contour"
           }
          ],
          "contourcarpet": [
           {
            "colorbar": {
             "outlinewidth": 0,
             "ticks": ""
            },
            "type": "contourcarpet"
           }
          ],
          "heatmap": [
           {
            "colorbar": {
             "outlinewidth": 0,
             "ticks": ""
            },
            "colorscale": [
             [
              0,
              "#0d0887"
             ],
             [
              0.1111111111111111,
              "#46039f"
             ],
             [
              0.2222222222222222,
              "#7201a8"
             ],
             [
              0.3333333333333333,
              "#9c179e"
             ],
             [
              0.4444444444444444,
              "#bd3786"
             ],
             [
              0.5555555555555556,
              "#d8576b"
             ],
             [
              0.6666666666666666,
              "#ed7953"
             ],
             [
              0.7777777777777778,
              "#fb9f3a"
             ],
             [
              0.8888888888888888,
              "#fdca26"
             ],
             [
              1,
              "#f0f921"
             ]
            ],
            "type": "heatmap"
           }
          ],
          "heatmapgl": [
           {
            "colorbar": {
             "outlinewidth": 0,
             "ticks": ""
            },
            "colorscale": [
             [
              0,
              "#0d0887"
             ],
             [
              0.1111111111111111,
              "#46039f"
             ],
             [
              0.2222222222222222,
              "#7201a8"
             ],
             [
              0.3333333333333333,
              "#9c179e"
             ],
             [
              0.4444444444444444,
              "#bd3786"
             ],
             [
              0.5555555555555556,
              "#d8576b"
             ],
             [
              0.6666666666666666,
              "#ed7953"
             ],
             [
              0.7777777777777778,
              "#fb9f3a"
             ],
             [
              0.8888888888888888,
              "#fdca26"
             ],
             [
              1,
              "#f0f921"
             ]
            ],
            "type": "heatmapgl"
           }
          ],
          "histogram": [
           {
            "marker": {
             "pattern": {
              "fillmode": "overlay",
              "size": 10,
              "solidity": 0.2
             }
            },
            "type": "histogram"
           }
          ],
          "histogram2d": [
           {
            "colorbar": {
             "outlinewidth": 0,
             "ticks": ""
            },
            "colorscale": [
             [
              0,
              "#0d0887"
             ],
             [
              0.1111111111111111,
              "#46039f"
             ],
             [
              0.2222222222222222,
              "#7201a8"
             ],
             [
              0.3333333333333333,
              "#9c179e"
             ],
             [
              0.4444444444444444,
              "#bd3786"
             ],
             [
              0.5555555555555556,
              "#d8576b"
             ],
             [
              0.6666666666666666,
              "#ed7953"
             ],
             [
              0.7777777777777778,
              "#fb9f3a"
             ],
             [
              0.8888888888888888,
              "#fdca26"
             ],
             [
              1,
              "#f0f921"
             ]
            ],
            "type": "histogram2d"
           }
          ],
          "histogram2dcontour": [
           {
            "colorbar": {
             "outlinewidth": 0,
             "ticks": ""
            },
            "colorscale": [
             [
              0,
              "#0d0887"
             ],
             [
              0.1111111111111111,
              "#46039f"
             ],
             [
              0.2222222222222222,
              "#7201a8"
             ],
             [
              0.3333333333333333,
              "#9c179e"
             ],
             [
              0.4444444444444444,
              "#bd3786"
             ],
             [
              0.5555555555555556,
              "#d8576b"
             ],
             [
              0.6666666666666666,
              "#ed7953"
             ],
             [
              0.7777777777777778,
              "#fb9f3a"
             ],
             [
              0.8888888888888888,
              "#fdca26"
             ],
             [
              1,
              "#f0f921"
             ]
            ],
            "type": "histogram2dcontour"
           }
          ],
          "mesh3d": [
           {
            "colorbar": {
             "outlinewidth": 0,
             "ticks": ""
            },
            "type": "mesh3d"
           }
          ],
          "parcoords": [
           {
            "line": {
             "colorbar": {
              "outlinewidth": 0,
              "ticks": ""
             }
            },
            "type": "parcoords"
           }
          ],
          "pie": [
           {
            "automargin": true,
            "type": "pie"
           }
          ],
          "scatter": [
           {
            "fillpattern": {
             "fillmode": "overlay",
             "size": 10,
             "solidity": 0.2
            },
            "type": "scatter"
           }
          ],
          "scatter3d": [
           {
            "line": {
             "colorbar": {
              "outlinewidth": 0,
              "ticks": ""
             }
            },
            "marker": {
             "colorbar": {
              "outlinewidth": 0,
              "ticks": ""
             }
            },
            "type": "scatter3d"
           }
          ],
          "scattercarpet": [
           {
            "marker": {
             "colorbar": {
              "outlinewidth": 0,
              "ticks": ""
             }
            },
            "type": "scattercarpet"
           }
          ],
          "scattergeo": [
           {
            "marker": {
             "colorbar": {
              "outlinewidth": 0,
              "ticks": ""
             }
            },
            "type": "scattergeo"
           }
          ],
          "scattergl": [
           {
            "marker": {
             "colorbar": {
              "outlinewidth": 0,
              "ticks": ""
             }
            },
            "type": "scattergl"
           }
          ],
          "scattermapbox": [
           {
            "marker": {
             "colorbar": {
              "outlinewidth": 0,
              "ticks": ""
             }
            },
            "type": "scattermapbox"
           }
          ],
          "scatterpolar": [
           {
            "marker": {
             "colorbar": {
              "outlinewidth": 0,
              "ticks": ""
             }
            },
            "type": "scatterpolar"
           }
          ],
          "scatterpolargl": [
           {
            "marker": {
             "colorbar": {
              "outlinewidth": 0,
              "ticks": ""
             }
            },
            "type": "scatterpolargl"
           }
          ],
          "scatterternary": [
           {
            "marker": {
             "colorbar": {
              "outlinewidth": 0,
              "ticks": ""
             }
            },
            "type": "scatterternary"
           }
          ],
          "surface": [
           {
            "colorbar": {
             "outlinewidth": 0,
             "ticks": ""
            },
            "colorscale": [
             [
              0,
              "#0d0887"
             ],
             [
              0.1111111111111111,
              "#46039f"
             ],
             [
              0.2222222222222222,
              "#7201a8"
             ],
             [
              0.3333333333333333,
              "#9c179e"
             ],
             [
              0.4444444444444444,
              "#bd3786"
             ],
             [
              0.5555555555555556,
              "#d8576b"
             ],
             [
              0.6666666666666666,
              "#ed7953"
             ],
             [
              0.7777777777777778,
              "#fb9f3a"
             ],
             [
              0.8888888888888888,
              "#fdca26"
             ],
             [
              1,
              "#f0f921"
             ]
            ],
            "type": "surface"
           }
          ],
          "table": [
           {
            "cells": {
             "fill": {
              "color": "#EBF0F8"
             },
             "line": {
              "color": "white"
             }
            },
            "header": {
             "fill": {
              "color": "#C8D4E3"
             },
             "line": {
              "color": "white"
             }
            },
            "type": "table"
           }
          ]
         },
         "layout": {
          "annotationdefaults": {
           "arrowcolor": "#2a3f5f",
           "arrowhead": 0,
           "arrowwidth": 1
          },
          "autotypenumbers": "strict",
          "coloraxis": {
           "colorbar": {
            "outlinewidth": 0,
            "ticks": ""
           }
          },
          "colorscale": {
           "diverging": [
            [
             0,
             "#8e0152"
            ],
            [
             0.1,
             "#c51b7d"
            ],
            [
             0.2,
             "#de77ae"
            ],
            [
             0.3,
             "#f1b6da"
            ],
            [
             0.4,
             "#fde0ef"
            ],
            [
             0.5,
             "#f7f7f7"
            ],
            [
             0.6,
             "#e6f5d0"
            ],
            [
             0.7,
             "#b8e186"
            ],
            [
             0.8,
             "#7fbc41"
            ],
            [
             0.9,
             "#4d9221"
            ],
            [
             1,
             "#276419"
            ]
           ],
           "sequential": [
            [
             0,
             "#0d0887"
            ],
            [
             0.1111111111111111,
             "#46039f"
            ],
            [
             0.2222222222222222,
             "#7201a8"
            ],
            [
             0.3333333333333333,
             "#9c179e"
            ],
            [
             0.4444444444444444,
             "#bd3786"
            ],
            [
             0.5555555555555556,
             "#d8576b"
            ],
            [
             0.6666666666666666,
             "#ed7953"
            ],
            [
             0.7777777777777778,
             "#fb9f3a"
            ],
            [
             0.8888888888888888,
             "#fdca26"
            ],
            [
             1,
             "#f0f921"
            ]
           ],
           "sequentialminus": [
            [
             0,
             "#0d0887"
            ],
            [
             0.1111111111111111,
             "#46039f"
            ],
            [
             0.2222222222222222,
             "#7201a8"
            ],
            [
             0.3333333333333333,
             "#9c179e"
            ],
            [
             0.4444444444444444,
             "#bd3786"
            ],
            [
             0.5555555555555556,
             "#d8576b"
            ],
            [
             0.6666666666666666,
             "#ed7953"
            ],
            [
             0.7777777777777778,
             "#fb9f3a"
            ],
            [
             0.8888888888888888,
             "#fdca26"
            ],
            [
             1,
             "#f0f921"
            ]
           ]
          },
          "colorway": [
           "#636efa",
           "#EF553B",
           "#00cc96",
           "#ab63fa",
           "#FFA15A",
           "#19d3f3",
           "#FF6692",
           "#B6E880",
           "#FF97FF",
           "#FECB52"
          ],
          "font": {
           "color": "#2a3f5f"
          },
          "geo": {
           "bgcolor": "white",
           "lakecolor": "white",
           "landcolor": "#E5ECF6",
           "showlakes": true,
           "showland": true,
           "subunitcolor": "white"
          },
          "hoverlabel": {
           "align": "left"
          },
          "hovermode": "closest",
          "mapbox": {
           "style": "light"
          },
          "paper_bgcolor": "white",
          "plot_bgcolor": "#E5ECF6",
          "polar": {
           "angularaxis": {
            "gridcolor": "white",
            "linecolor": "white",
            "ticks": ""
           },
           "bgcolor": "#E5ECF6",
           "radialaxis": {
            "gridcolor": "white",
            "linecolor": "white",
            "ticks": ""
           }
          },
          "scene": {
           "xaxis": {
            "backgroundcolor": "#E5ECF6",
            "gridcolor": "white",
            "gridwidth": 2,
            "linecolor": "white",
            "showbackground": true,
            "ticks": "",
            "zerolinecolor": "white"
           },
           "yaxis": {
            "backgroundcolor": "#E5ECF6",
            "gridcolor": "white",
            "gridwidth": 2,
            "linecolor": "white",
            "showbackground": true,
            "ticks": "",
            "zerolinecolor": "white"
           },
           "zaxis": {
            "backgroundcolor": "#E5ECF6",
            "gridcolor": "white",
            "gridwidth": 2,
            "linecolor": "white",
            "showbackground": true,
            "ticks": "",
            "zerolinecolor": "white"
           }
          },
          "shapedefaults": {
           "line": {
            "color": "#2a3f5f"
           }
          },
          "ternary": {
           "aaxis": {
            "gridcolor": "white",
            "linecolor": "white",
            "ticks": ""
           },
           "baxis": {
            "gridcolor": "white",
            "linecolor": "white",
            "ticks": ""
           },
           "bgcolor": "#E5ECF6",
           "caxis": {
            "gridcolor": "white",
            "linecolor": "white",
            "ticks": ""
           }
          },
          "title": {
           "x": 0.05
          },
          "xaxis": {
           "automargin": true,
           "gridcolor": "white",
           "linecolor": "white",
           "ticks": "",
           "title": {
            "standoff": 15
           },
           "zerolinecolor": "white",
           "zerolinewidth": 2
          },
          "yaxis": {
           "automargin": true,
           "gridcolor": "white",
           "linecolor": "white",
           "ticks": "",
           "title": {
            "standoff": 15
           },
           "zerolinecolor": "white",
           "zerolinewidth": 2
          }
         }
        },
        "title": {
         "text": "Happiness Index by Country"
        }
       }
      }
     },
     "metadata": {},
     "output_type": "display_data"
    }
   ],
   "source": [
    "fig4 = px.choropleth(df, locations='Iso', color='Happiness', hover_name='Country', range_color=[0, 8], title='Happiness Index by Country')\n",
    "fig4.show()\n",
    "fig4.write_html('graphs/happiness_country.html')"
   ]
  },
  {
   "cell_type": "code",
   "execution_count": 97,
   "metadata": {},
   "outputs": [
    {
     "data": {
      "application/vnd.plotly.v1+json": {
       "config": {
        "plotlyServerURL": "https://plotly.com"
       },
       "data": [
        {
         "coloraxis": "coloraxis",
         "geo": "geo",
         "hovertemplate": "<b>%{hovertext}</b><br><br>Iso=%{location}<br>Legal Drinking Age=%{z}<extra></extra>",
         "hovertext": [
          "Latvia",
          "Moldova",
          "Germany",
          "Lithuania",
          "Ireland",
          "Spain",
          "Uganda",
          "Bulgaria",
          "Luxembourg",
          "Romania",
          "Montenegro",
          "France",
          "Slovenia",
          "Portugal",
          "Laos",
          "Tanzania",
          "Austria",
          "Poland",
          "United Kingdom",
          "Switzerland",
          "Hungary",
          "Slovakia",
          "Burkina Faso",
          "Belarus",
          "Cyprus",
          "Belgium",
          "Estonia",
          "New Zealand",
          "Finland",
          "Greece",
          "Russia",
          "Australia",
          "Denmark",
          "Japan",
          "United States",
          "Netherlands",
          "Georgia",
          "Argentina",
          "South Africa",
          "Iceland",
          "Sweden",
          "Chile",
          "Serbia",
          "Canada",
          "Croatia",
          "Thailand",
          "South Korea",
          "Ukraine",
          "Malta",
          "Gabon",
          "Italy",
          "Rwanda",
          "Vietnam",
          "Cambodia",
          "Bosnia and Herzegovina",
          "Panama",
          "Burundi",
          "Brazil",
          "Norway",
          "Philippines",
          "Paraguay",
          "Uruguay",
          "Albania",
          "Peru",
          "Dominican Republic",
          "Botswana",
          "North Macedonia",
          "Nigeria",
          "China",
          "Mongolia",
          "India",
          "Cameroon",
          "Colombia",
          "Liberia",
          "Sierra Leone",
          "Lesotho",
          "Nicaragua",
          "Mexico",
          "Kazakhstan",
          "Kyrgyzstan",
          "Mauritius",
          "Armenia",
          "Zimbabwe",
          "Zambia",
          "Israel",
          "Jamaica",
          "El Salvador",
          "Malawi",
          "Costa Rica",
          "Honduras",
          "Bolivia",
          "United Arab Emirates",
          "Venezuela",
          "Gambia",
          "Ecuador",
          "Namibia",
          "Turkmenistan",
          "Ivory Coast",
          "Haiti",
          "Sri Lanka",
          "Ghana",
          "Mozambique",
          "Togo",
          "Uzbekistan",
          "Benin",
          "Ethiopia",
          "Kenya",
          "Myanmar",
          "Tunisia",
          "Singapore",
          "Madagascar",
          "Turkey",
          "Central African Republic",
          "Guatemala",
          "Lebanon",
          "Qatar",
          "Mali",
          "Chad",
          "Comoros",
          "Bahrain",
          "Guinea",
          "Azerbaijan",
          "Malaysia",
          "Tajikistan",
          "Senegal",
          "Algeria",
          "Nepal",
          "Jordan",
          "Niger",
          "Morocco",
          "Iraq",
          "Indonesia",
          "Bhutan",
          "Syria",
          "Egypt",
          "Mauritania",
          "Bangladesh"
         ],
         "locations": [
          "LVA",
          "MDA",
          "DEU",
          "LTU",
          "IRL",
          "ESP",
          "UGA",
          "BGR",
          "LUX",
          "ROU",
          "MNE",
          "FRA",
          "SVN",
          "PRT",
          "LAO",
          "TZA",
          "AUT",
          "POL",
          "GBR",
          "CHE",
          "HUN",
          "SVK",
          "BFA",
          "BLR",
          "CYP",
          "BEL",
          "EST",
          "NZL",
          "FIN",
          "GRC",
          "RUS",
          "AUS",
          "DNK",
          "JPN",
          "USA",
          "NLD",
          "GEO",
          "ARG",
          "ZAF",
          "ISL",
          "SWE",
          "CHL",
          "SRB",
          "CAN",
          "HRV",
          "THA",
          "KOR",
          "UKR",
          "MLT",
          "GAB",
          "ITA",
          "RWA",
          "VNM",
          "KHM",
          "BIH",
          "PAN",
          "BDI",
          "BRA",
          "NOR",
          "PHL",
          "PRY",
          "URY",
          "ALB",
          "PER",
          "DMA",
          "BWA",
          "MKD",
          "NGA",
          "CHN",
          "MNG",
          "IND",
          "CMR",
          "COL",
          "LBR",
          "SLE",
          "LSO",
          "NIC",
          "MEX",
          "KAZ",
          "KGZ",
          "MUS",
          "ARM",
          "ZWE",
          "ZMB",
          "ISR",
          "JAM",
          "SLV",
          "MWI",
          "CRI",
          "HND",
          "BOL",
          "ARE",
          "VEN",
          "GMB",
          "ECU",
          "NAM",
          "TKM",
          "CIV",
          "HTI",
          "LKA",
          "GHA",
          "MOZ",
          "TGO",
          "UZB",
          "BEN",
          "ETH",
          "KEN",
          "MMR",
          "TUN",
          "SGP",
          "MDG",
          "TUR",
          "CAF",
          "GTM",
          "LBN",
          "QAT",
          "MLI",
          "TCD",
          "COM",
          "BHR",
          "GIN",
          "AZE",
          "MYS",
          "TJK",
          "SEN",
          "DZA",
          "NPL",
          "JOR",
          "NER",
          "MAR",
          "IRQ",
          "IDN",
          "BTN",
          "SYR",
          "EGY",
          "MRT",
          "BGD"
         ],
         "name": "",
         "type": "choropleth",
         "z": [
          18,
          18,
          16,
          18,
          18,
          18,
          18,
          18,
          16,
          18,
          18,
          18,
          18,
          18,
          18,
          18,
          16,
          18,
          18,
          16,
          18,
          18,
          0,
          18,
          18,
          16,
          18,
          18,
          18,
          18,
          18,
          18,
          16,
          20,
          21,
          18,
          16,
          18,
          18,
          20,
          18,
          18,
          18,
          18,
          18,
          20,
          19,
          18,
          17,
          18,
          18,
          18,
          18,
          21,
          18,
          18,
          16,
          18,
          18,
          18,
          20,
          18,
          18,
          18,
          18,
          18,
          18,
          18,
          18,
          18,
          18,
          21,
          18,
          18,
          18,
          21,
          18,
          18,
          21,
          18,
          18,
          18,
          18,
          18,
          18,
          18,
          18,
          18,
          18,
          18,
          18,
          18,
          18,
          18,
          18,
          18,
          18,
          18,
          16,
          21,
          18,
          18,
          0,
          20,
          20,
          18,
          18,
          18,
          18,
          18,
          18,
          18,
          15,
          18,
          18,
          19,
          15,
          16,
          18,
          21,
          18,
          18,
          18,
          18,
          18,
          18,
          18,
          18,
          18,
          18,
          21,
          21,
          18,
          18,
          21,
          21,
          18
         ]
        }
       ],
       "layout": {
        "coloraxis": {
         "cmax": 21,
         "cmin": 0,
         "colorbar": {
          "title": {
           "text": "Legal Drinking Age"
          }
         },
         "colorscale": [
          [
           0,
           "#0d0887"
          ],
          [
           0.1111111111111111,
           "#46039f"
          ],
          [
           0.2222222222222222,
           "#7201a8"
          ],
          [
           0.3333333333333333,
           "#9c179e"
          ],
          [
           0.4444444444444444,
           "#bd3786"
          ],
          [
           0.5555555555555556,
           "#d8576b"
          ],
          [
           0.6666666666666666,
           "#ed7953"
          ],
          [
           0.7777777777777778,
           "#fb9f3a"
          ],
          [
           0.8888888888888888,
           "#fdca26"
          ],
          [
           1,
           "#f0f921"
          ]
         ]
        },
        "geo": {
         "center": {},
         "domain": {
          "x": [
           0,
           1
          ],
          "y": [
           0,
           1
          ]
         }
        },
        "legend": {
         "tracegroupgap": 0
        },
        "template": {
         "data": {
          "bar": [
           {
            "error_x": {
             "color": "#2a3f5f"
            },
            "error_y": {
             "color": "#2a3f5f"
            },
            "marker": {
             "line": {
              "color": "#E5ECF6",
              "width": 0.5
             },
             "pattern": {
              "fillmode": "overlay",
              "size": 10,
              "solidity": 0.2
             }
            },
            "type": "bar"
           }
          ],
          "barpolar": [
           {
            "marker": {
             "line": {
              "color": "#E5ECF6",
              "width": 0.5
             },
             "pattern": {
              "fillmode": "overlay",
              "size": 10,
              "solidity": 0.2
             }
            },
            "type": "barpolar"
           }
          ],
          "carpet": [
           {
            "aaxis": {
             "endlinecolor": "#2a3f5f",
             "gridcolor": "white",
             "linecolor": "white",
             "minorgridcolor": "white",
             "startlinecolor": "#2a3f5f"
            },
            "baxis": {
             "endlinecolor": "#2a3f5f",
             "gridcolor": "white",
             "linecolor": "white",
             "minorgridcolor": "white",
             "startlinecolor": "#2a3f5f"
            },
            "type": "carpet"
           }
          ],
          "choropleth": [
           {
            "colorbar": {
             "outlinewidth": 0,
             "ticks": ""
            },
            "type": "choropleth"
           }
          ],
          "contour": [
           {
            "colorbar": {
             "outlinewidth": 0,
             "ticks": ""
            },
            "colorscale": [
             [
              0,
              "#0d0887"
             ],
             [
              0.1111111111111111,
              "#46039f"
             ],
             [
              0.2222222222222222,
              "#7201a8"
             ],
             [
              0.3333333333333333,
              "#9c179e"
             ],
             [
              0.4444444444444444,
              "#bd3786"
             ],
             [
              0.5555555555555556,
              "#d8576b"
             ],
             [
              0.6666666666666666,
              "#ed7953"
             ],
             [
              0.7777777777777778,
              "#fb9f3a"
             ],
             [
              0.8888888888888888,
              "#fdca26"
             ],
             [
              1,
              "#f0f921"
             ]
            ],
            "type": "contour"
           }
          ],
          "contourcarpet": [
           {
            "colorbar": {
             "outlinewidth": 0,
             "ticks": ""
            },
            "type": "contourcarpet"
           }
          ],
          "heatmap": [
           {
            "colorbar": {
             "outlinewidth": 0,
             "ticks": ""
            },
            "colorscale": [
             [
              0,
              "#0d0887"
             ],
             [
              0.1111111111111111,
              "#46039f"
             ],
             [
              0.2222222222222222,
              "#7201a8"
             ],
             [
              0.3333333333333333,
              "#9c179e"
             ],
             [
              0.4444444444444444,
              "#bd3786"
             ],
             [
              0.5555555555555556,
              "#d8576b"
             ],
             [
              0.6666666666666666,
              "#ed7953"
             ],
             [
              0.7777777777777778,
              "#fb9f3a"
             ],
             [
              0.8888888888888888,
              "#fdca26"
             ],
             [
              1,
              "#f0f921"
             ]
            ],
            "type": "heatmap"
           }
          ],
          "heatmapgl": [
           {
            "colorbar": {
             "outlinewidth": 0,
             "ticks": ""
            },
            "colorscale": [
             [
              0,
              "#0d0887"
             ],
             [
              0.1111111111111111,
              "#46039f"
             ],
             [
              0.2222222222222222,
              "#7201a8"
             ],
             [
              0.3333333333333333,
              "#9c179e"
             ],
             [
              0.4444444444444444,
              "#bd3786"
             ],
             [
              0.5555555555555556,
              "#d8576b"
             ],
             [
              0.6666666666666666,
              "#ed7953"
             ],
             [
              0.7777777777777778,
              "#fb9f3a"
             ],
             [
              0.8888888888888888,
              "#fdca26"
             ],
             [
              1,
              "#f0f921"
             ]
            ],
            "type": "heatmapgl"
           }
          ],
          "histogram": [
           {
            "marker": {
             "pattern": {
              "fillmode": "overlay",
              "size": 10,
              "solidity": 0.2
             }
            },
            "type": "histogram"
           }
          ],
          "histogram2d": [
           {
            "colorbar": {
             "outlinewidth": 0,
             "ticks": ""
            },
            "colorscale": [
             [
              0,
              "#0d0887"
             ],
             [
              0.1111111111111111,
              "#46039f"
             ],
             [
              0.2222222222222222,
              "#7201a8"
             ],
             [
              0.3333333333333333,
              "#9c179e"
             ],
             [
              0.4444444444444444,
              "#bd3786"
             ],
             [
              0.5555555555555556,
              "#d8576b"
             ],
             [
              0.6666666666666666,
              "#ed7953"
             ],
             [
              0.7777777777777778,
              "#fb9f3a"
             ],
             [
              0.8888888888888888,
              "#fdca26"
             ],
             [
              1,
              "#f0f921"
             ]
            ],
            "type": "histogram2d"
           }
          ],
          "histogram2dcontour": [
           {
            "colorbar": {
             "outlinewidth": 0,
             "ticks": ""
            },
            "colorscale": [
             [
              0,
              "#0d0887"
             ],
             [
              0.1111111111111111,
              "#46039f"
             ],
             [
              0.2222222222222222,
              "#7201a8"
             ],
             [
              0.3333333333333333,
              "#9c179e"
             ],
             [
              0.4444444444444444,
              "#bd3786"
             ],
             [
              0.5555555555555556,
              "#d8576b"
             ],
             [
              0.6666666666666666,
              "#ed7953"
             ],
             [
              0.7777777777777778,
              "#fb9f3a"
             ],
             [
              0.8888888888888888,
              "#fdca26"
             ],
             [
              1,
              "#f0f921"
             ]
            ],
            "type": "histogram2dcontour"
           }
          ],
          "mesh3d": [
           {
            "colorbar": {
             "outlinewidth": 0,
             "ticks": ""
            },
            "type": "mesh3d"
           }
          ],
          "parcoords": [
           {
            "line": {
             "colorbar": {
              "outlinewidth": 0,
              "ticks": ""
             }
            },
            "type": "parcoords"
           }
          ],
          "pie": [
           {
            "automargin": true,
            "type": "pie"
           }
          ],
          "scatter": [
           {
            "fillpattern": {
             "fillmode": "overlay",
             "size": 10,
             "solidity": 0.2
            },
            "type": "scatter"
           }
          ],
          "scatter3d": [
           {
            "line": {
             "colorbar": {
              "outlinewidth": 0,
              "ticks": ""
             }
            },
            "marker": {
             "colorbar": {
              "outlinewidth": 0,
              "ticks": ""
             }
            },
            "type": "scatter3d"
           }
          ],
          "scattercarpet": [
           {
            "marker": {
             "colorbar": {
              "outlinewidth": 0,
              "ticks": ""
             }
            },
            "type": "scattercarpet"
           }
          ],
          "scattergeo": [
           {
            "marker": {
             "colorbar": {
              "outlinewidth": 0,
              "ticks": ""
             }
            },
            "type": "scattergeo"
           }
          ],
          "scattergl": [
           {
            "marker": {
             "colorbar": {
              "outlinewidth": 0,
              "ticks": ""
             }
            },
            "type": "scattergl"
           }
          ],
          "scattermapbox": [
           {
            "marker": {
             "colorbar": {
              "outlinewidth": 0,
              "ticks": ""
             }
            },
            "type": "scattermapbox"
           }
          ],
          "scatterpolar": [
           {
            "marker": {
             "colorbar": {
              "outlinewidth": 0,
              "ticks": ""
             }
            },
            "type": "scatterpolar"
           }
          ],
          "scatterpolargl": [
           {
            "marker": {
             "colorbar": {
              "outlinewidth": 0,
              "ticks": ""
             }
            },
            "type": "scatterpolargl"
           }
          ],
          "scatterternary": [
           {
            "marker": {
             "colorbar": {
              "outlinewidth": 0,
              "ticks": ""
             }
            },
            "type": "scatterternary"
           }
          ],
          "surface": [
           {
            "colorbar": {
             "outlinewidth": 0,
             "ticks": ""
            },
            "colorscale": [
             [
              0,
              "#0d0887"
             ],
             [
              0.1111111111111111,
              "#46039f"
             ],
             [
              0.2222222222222222,
              "#7201a8"
             ],
             [
              0.3333333333333333,
              "#9c179e"
             ],
             [
              0.4444444444444444,
              "#bd3786"
             ],
             [
              0.5555555555555556,
              "#d8576b"
             ],
             [
              0.6666666666666666,
              "#ed7953"
             ],
             [
              0.7777777777777778,
              "#fb9f3a"
             ],
             [
              0.8888888888888888,
              "#fdca26"
             ],
             [
              1,
              "#f0f921"
             ]
            ],
            "type": "surface"
           }
          ],
          "table": [
           {
            "cells": {
             "fill": {
              "color": "#EBF0F8"
             },
             "line": {
              "color": "white"
             }
            },
            "header": {
             "fill": {
              "color": "#C8D4E3"
             },
             "line": {
              "color": "white"
             }
            },
            "type": "table"
           }
          ]
         },
         "layout": {
          "annotationdefaults": {
           "arrowcolor": "#2a3f5f",
           "arrowhead": 0,
           "arrowwidth": 1
          },
          "autotypenumbers": "strict",
          "coloraxis": {
           "colorbar": {
            "outlinewidth": 0,
            "ticks": ""
           }
          },
          "colorscale": {
           "diverging": [
            [
             0,
             "#8e0152"
            ],
            [
             0.1,
             "#c51b7d"
            ],
            [
             0.2,
             "#de77ae"
            ],
            [
             0.3,
             "#f1b6da"
            ],
            [
             0.4,
             "#fde0ef"
            ],
            [
             0.5,
             "#f7f7f7"
            ],
            [
             0.6,
             "#e6f5d0"
            ],
            [
             0.7,
             "#b8e186"
            ],
            [
             0.8,
             "#7fbc41"
            ],
            [
             0.9,
             "#4d9221"
            ],
            [
             1,
             "#276419"
            ]
           ],
           "sequential": [
            [
             0,
             "#0d0887"
            ],
            [
             0.1111111111111111,
             "#46039f"
            ],
            [
             0.2222222222222222,
             "#7201a8"
            ],
            [
             0.3333333333333333,
             "#9c179e"
            ],
            [
             0.4444444444444444,
             "#bd3786"
            ],
            [
             0.5555555555555556,
             "#d8576b"
            ],
            [
             0.6666666666666666,
             "#ed7953"
            ],
            [
             0.7777777777777778,
             "#fb9f3a"
            ],
            [
             0.8888888888888888,
             "#fdca26"
            ],
            [
             1,
             "#f0f921"
            ]
           ],
           "sequentialminus": [
            [
             0,
             "#0d0887"
            ],
            [
             0.1111111111111111,
             "#46039f"
            ],
            [
             0.2222222222222222,
             "#7201a8"
            ],
            [
             0.3333333333333333,
             "#9c179e"
            ],
            [
             0.4444444444444444,
             "#bd3786"
            ],
            [
             0.5555555555555556,
             "#d8576b"
            ],
            [
             0.6666666666666666,
             "#ed7953"
            ],
            [
             0.7777777777777778,
             "#fb9f3a"
            ],
            [
             0.8888888888888888,
             "#fdca26"
            ],
            [
             1,
             "#f0f921"
            ]
           ]
          },
          "colorway": [
           "#636efa",
           "#EF553B",
           "#00cc96",
           "#ab63fa",
           "#FFA15A",
           "#19d3f3",
           "#FF6692",
           "#B6E880",
           "#FF97FF",
           "#FECB52"
          ],
          "font": {
           "color": "#2a3f5f"
          },
          "geo": {
           "bgcolor": "white",
           "lakecolor": "white",
           "landcolor": "#E5ECF6",
           "showlakes": true,
           "showland": true,
           "subunitcolor": "white"
          },
          "hoverlabel": {
           "align": "left"
          },
          "hovermode": "closest",
          "mapbox": {
           "style": "light"
          },
          "paper_bgcolor": "white",
          "plot_bgcolor": "#E5ECF6",
          "polar": {
           "angularaxis": {
            "gridcolor": "white",
            "linecolor": "white",
            "ticks": ""
           },
           "bgcolor": "#E5ECF6",
           "radialaxis": {
            "gridcolor": "white",
            "linecolor": "white",
            "ticks": ""
           }
          },
          "scene": {
           "xaxis": {
            "backgroundcolor": "#E5ECF6",
            "gridcolor": "white",
            "gridwidth": 2,
            "linecolor": "white",
            "showbackground": true,
            "ticks": "",
            "zerolinecolor": "white"
           },
           "yaxis": {
            "backgroundcolor": "#E5ECF6",
            "gridcolor": "white",
            "gridwidth": 2,
            "linecolor": "white",
            "showbackground": true,
            "ticks": "",
            "zerolinecolor": "white"
           },
           "zaxis": {
            "backgroundcolor": "#E5ECF6",
            "gridcolor": "white",
            "gridwidth": 2,
            "linecolor": "white",
            "showbackground": true,
            "ticks": "",
            "zerolinecolor": "white"
           }
          },
          "shapedefaults": {
           "line": {
            "color": "#2a3f5f"
           }
          },
          "ternary": {
           "aaxis": {
            "gridcolor": "white",
            "linecolor": "white",
            "ticks": ""
           },
           "baxis": {
            "gridcolor": "white",
            "linecolor": "white",
            "ticks": ""
           },
           "bgcolor": "#E5ECF6",
           "caxis": {
            "gridcolor": "white",
            "linecolor": "white",
            "ticks": ""
           }
          },
          "title": {
           "x": 0.05
          },
          "xaxis": {
           "automargin": true,
           "gridcolor": "white",
           "linecolor": "white",
           "ticks": "",
           "title": {
            "standoff": 15
           },
           "zerolinecolor": "white",
           "zerolinewidth": 2
          },
          "yaxis": {
           "automargin": true,
           "gridcolor": "white",
           "linecolor": "white",
           "ticks": "",
           "title": {
            "standoff": 15
           },
           "zerolinecolor": "white",
           "zerolinewidth": 2
          }
         }
        },
        "title": {
         "text": "Legal Drinking Age by Country"
        }
       }
      }
     },
     "metadata": {},
     "output_type": "display_data"
    }
   ],
   "source": [
    "fig5 = px.choropleth(df, locations='Iso', color='Legal Drinking Age', hover_name='Country', range_color=[0, 21], title='Legal Drinking Age by Country')\n",
    "fig5.show()\n",
    "fig5.write_html('graphs/drinking_age.html')"
   ]
  },
  {
   "cell_type": "code",
   "execution_count": 98,
   "metadata": {},
   "outputs": [
    {
     "data": {
      "application/vnd.plotly.v1+json": {
       "config": {
        "plotlyServerURL": "https://plotly.com"
       },
       "data": [
        {
         "coloraxis": "coloraxis",
         "geo": "geo",
         "hovertemplate": "<b>%{hovertext}</b><br><br>Legal Drinking Age=0<br>Iso=%{location}<br>Alcohol=%{z}<extra></extra>",
         "hovertext": [
          "Togo",
          "Burkina Faso"
         ],
         "locations": [
          "TGO",
          "BFA"
         ],
         "name": "",
         "type": "choropleth",
         "z": [
          2.66,
          11.05
         ]
        }
       ],
       "frames": [
        {
         "data": [
          {
           "coloraxis": "coloraxis",
           "geo": "geo",
           "hovertemplate": "<b>%{hovertext}</b><br><br>Legal Drinking Age=0<br>Iso=%{location}<br>Alcohol=%{z}<extra></extra>",
           "hovertext": [
            "Togo",
            "Burkina Faso"
           ],
           "locations": [
            "TGO",
            "BFA"
           ],
           "name": "",
           "type": "choropleth",
           "z": [
            2.66,
            11.05
           ]
          }
         ],
         "name": "0"
        },
        {
         "data": [
          {
           "coloraxis": "coloraxis",
           "geo": "geo",
           "hovertemplate": "<b>%{hovertext}</b><br><br>Legal Drinking Age=15<br>Iso=%{location}<br>Alcohol=%{z}<extra></extra>",
           "hovertext": [
            "Central African Republic",
            "Mali"
           ],
           "locations": [
            "CAF",
            "MLI"
           ],
           "name": "",
           "type": "choropleth",
           "z": [
            1.71,
            1.31
           ]
          }
         ],
         "name": "15"
        },
        {
         "data": [
          {
           "coloraxis": "coloraxis",
           "geo": "geo",
           "hovertemplate": "<b>%{hovertext}</b><br><br>Legal Drinking Age=16<br>Iso=%{location}<br>Alcohol=%{z}<extra></extra>",
           "hovertext": [
            "Georgia",
            "Denmark",
            "Belgium",
            "Haiti",
            "Chad",
            "Austria",
            "Burundi",
            "Switzerland",
            "Luxembourg",
            "Germany"
           ],
           "locations": [
            "GEO",
            "DNK",
            "BEL",
            "HTI",
            "TCD",
            "AUT",
            "BDI",
            "CHE",
            "LUX",
            "DEU"
           ],
           "name": "",
           "type": "choropleth",
           "z": [
            9.47,
            10.13,
            10.8,
            3.02,
            1.26,
            11.93,
            7.45,
            11.23,
            12.45,
            12.79
           ]
          }
         ],
         "name": "16"
        },
        {
         "data": [
          {
           "coloraxis": "coloraxis",
           "geo": "geo",
           "hovertemplate": "<b>%{hovertext}</b><br><br>Legal Drinking Age=17<br>Iso=%{location}<br>Alcohol=%{z}<extra></extra>",
           "hovertext": [
            "Malta"
           ],
           "locations": [
            "MLT"
           ],
           "name": "",
           "type": "choropleth",
           "z": [
            8.27
           ]
          }
         ],
         "name": "17"
        },
        {
         "data": [
          {
           "coloraxis": "coloraxis",
           "geo": "geo",
           "hovertemplate": "<b>%{hovertext}</b><br><br>Legal Drinking Age=18<br>Iso=%{location}<br>Alcohol=%{z}<extra></extra>",
           "hovertext": [
            "Armenia",
            "India",
            "Namibia",
            "Ecuador",
            "Gambia",
            "Venezuela",
            "United Arab Emirates",
            "Bolivia",
            "Honduras",
            "Costa Rica",
            "Colombia",
            "Malawi",
            "Liberia",
            "Sierra Leone",
            "El Salvador",
            "Jamaica",
            "Nicaragua",
            "Mexico",
            "Kyrgyzstan",
            "Israel",
            "Zambia",
            "Zimbabwe",
            "Mauritius",
            "Turkmenistan",
            "Latvia",
            "Ghana",
            "Syria",
            "Bhutan",
            "Morocco",
            "Niger",
            "Jordan",
            "Nepal",
            "Algeria",
            "Senegal",
            "Tajikistan",
            "Malaysia",
            "Azerbaijan",
            "Ivory Coast",
            "Guinea",
            "Lebanon",
            "Guatemala",
            "Turkey",
            "Madagascar",
            "Singapore",
            "Tunisia",
            "Myanmar",
            "Kenya",
            "Ethiopia",
            "Mongolia",
            "Mozambique",
            "Comoros",
            "Nigeria",
            "China",
            "Bangladesh",
            "Sweden",
            "Romania",
            "South Africa",
            "Argentina",
            "Montenegro",
            "Netherlands",
            "France",
            "North Macedonia",
            "Slovenia",
            "Portugal",
            "Chile",
            "Australia",
            "Greece",
            "Finland",
            "New Zealand",
            "Estonia",
            "Cyprus",
            "Belarus",
            "Slovakia",
            "Hungary",
            "United Kingdom",
            "Poland",
            "Russia",
            "Tanzania",
            "Serbia",
            "Croatia",
            "Botswana",
            "Dominican Republic",
            "Moldova",
            "Peru",
            "Albania",
            "Uruguay",
            "Lithuania",
            "Ireland",
            "Philippines",
            "Spain",
            "Canada",
            "Norway",
            "Panama",
            "Bosnia and Herzegovina",
            "Uganda",
            "Vietnam",
            "Rwanda",
            "Italy",
            "Gabon",
            "Ukraine",
            "Bulgaria",
            "Brazil",
            "Laos"
           ],
           "locations": [
            "ARM",
            "IND",
            "NAM",
            "ECU",
            "GMB",
            "VEN",
            "ARE",
            "BOL",
            "HND",
            "CRI",
            "COL",
            "MWI",
            "LBR",
            "SLE",
            "SLV",
            "JAM",
            "NIC",
            "MEX",
            "KGZ",
            "ISR",
            "ZMB",
            "ZWE",
            "MUS",
            "TKM",
            "LVA",
            "GHA",
            "SYR",
            "BTN",
            "MAR",
            "NER",
            "JOR",
            "NPL",
            "DZA",
            "SEN",
            "TJK",
            "MYS",
            "AZE",
            "CIV",
            "GIN",
            "LBN",
            "GTM",
            "TUR",
            "MDG",
            "SGP",
            "TUN",
            "MMR",
            "KEN",
            "ETH",
            "MNG",
            "MOZ",
            "COM",
            "NGA",
            "CHN",
            "BGD",
            "SWE",
            "ROU",
            "ZAF",
            "ARG",
            "MNE",
            "NLD",
            "FRA",
            "MKD",
            "SVN",
            "PRT",
            "CHL",
            "AUS",
            "GRC",
            "FIN",
            "NZL",
            "EST",
            "CYP",
            "BLR",
            "SVK",
            "HUN",
            "GBR",
            "POL",
            "RUS",
            "TZA",
            "SRB",
            "HRV",
            "BWA",
            "DMA",
            "MDA",
            "PER",
            "ALB",
            "URY",
            "LTU",
            "IRL",
            "PHL",
            "ESP",
            "CAN",
            "NOR",
            "PAN",
            "BIH",
            "UGA",
            "VNM",
            "RWA",
            "ITA",
            "GAB",
            "UKR",
            "BGR",
            "BRA",
            "LAO"
           ],
           "name": "",
           "type": "choropleth",
           "z": [
            4.67,
            5.61,
            3.15,
            3.27,
            3.36,
            3.56,
            3.85,
            3.91,
            3.93,
            4.07,
            5.45,
            4.08,
            5.37,
            5.31,
            4.09,
            4.16,
            5.07,
            5.05,
            4.85,
            4.38,
            4.46,
            4.52,
            4.78,
            3.09,
            13.19,
            2.78,
            0.19,
            0.21,
            0.49,
            0.52,
            0.52,
            0.62,
            0.63,
            0.73,
            0.88,
            0.93,
            0.98,
            3.04,
            1.09,
            1.53,
            1.63,
            1.77,
            1.98,
            2,
            2.04,
            2.14,
            2.15,
            2.2,
            5.9,
            2.69,
            1.15,
            6.19,
            6.04,
            0,
            9.04,
            12.34,
            9.45,
            9.45,
            12.24,
            9.67,
            12.23,
            6.43,
            12.11,
            12.09,
            8.95,
            10.36,
            10.5,
            10.65,
            10.69,
            10.75,
            10.8,
            10.96,
            11.06,
            11.07,
            11.45,
            11.89,
            10.5,
            12.04,
            8.85,
            8.73,
            6.61,
            6.68,
            12.85,
            6.78,
            6.82,
            6.92,
            12.78,
            12.75,
            7.02,
            12.67,
            8.81,
            7.14,
            7.77,
            7.81,
            12.48,
            7.93,
            7.96,
            8.01,
            8.08,
            8.34,
            12.46,
            7.32,
            12.08
           ]
          }
         ],
         "name": "18"
        },
        {
         "data": [
          {
           "coloraxis": "coloraxis",
           "geo": "geo",
           "hovertemplate": "<b>%{hovertext}</b><br><br>Legal Drinking Age=19<br>Iso=%{location}<br>Alcohol=%{z}<extra></extra>",
           "hovertext": [
            "Qatar",
            "South Korea"
           ],
           "locations": [
            "QAT",
            "KOR"
           ],
           "name": "",
           "type": "choropleth",
           "z": [
            1.51,
            8.45
           ]
          }
         ],
         "name": "19"
        },
        {
         "data": [
          {
           "coloraxis": "coloraxis",
           "geo": "geo",
           "hovertemplate": "<b>%{hovertext}</b><br><br>Legal Drinking Age=20<br>Iso=%{location}<br>Alcohol=%{z}<extra></extra>",
           "hovertext": [
            "Japan",
            "Benin",
            "Uzbekistan",
            "Iceland",
            "Thailand",
            "Paraguay"
           ],
           "locations": [
            "JPN",
            "BEN",
            "UZB",
            "ISL",
            "THA",
            "PRY"
           ],
           "name": "",
           "type": "choropleth",
           "z": [
            10.09,
            2.23,
            2.61,
            9.21,
            8.5,
            7.01
           ]
          }
         ],
         "name": "20"
        },
        {
         "data": [
          {
           "coloraxis": "coloraxis",
           "geo": "geo",
           "hovertemplate": "<b>%{hovertext}</b><br><br>Legal Drinking Age=21<br>Iso=%{location}<br>Alcohol=%{z}<extra></extra>",
           "hovertext": [
            "United States",
            "Sri Lanka",
            "Cambodia",
            "Kazakhstan",
            "Iraq",
            "Indonesia",
            "Lesotho",
            "Cameroon",
            "Egypt",
            "Bahrain",
            "Mauritania"
           ],
           "locations": [
            "USA",
            "LKA",
            "KHM",
            "KAZ",
            "IRQ",
            "IDN",
            "LSO",
            "CMR",
            "EGY",
            "BHR",
            "MRT"
           ],
           "name": "",
           "type": "choropleth",
           "z": [
            9.97,
            2.87,
            7.84,
            5,
            0.37,
            0.22,
            5.08,
            5.52,
            0.14,
            1.13,
            0
           ]
          }
         ],
         "name": "21"
        }
       ],
       "layout": {
        "coloraxis": {
         "cmax": 14,
         "cmin": 0,
         "colorbar": {
          "title": {
           "text": "Alcohol"
          }
         },
         "colorscale": [
          [
           0,
           "#0d0887"
          ],
          [
           0.1111111111111111,
           "#46039f"
          ],
          [
           0.2222222222222222,
           "#7201a8"
          ],
          [
           0.3333333333333333,
           "#9c179e"
          ],
          [
           0.4444444444444444,
           "#bd3786"
          ],
          [
           0.5555555555555556,
           "#d8576b"
          ],
          [
           0.6666666666666666,
           "#ed7953"
          ],
          [
           0.7777777777777778,
           "#fb9f3a"
          ],
          [
           0.8888888888888888,
           "#fdca26"
          ],
          [
           1,
           "#f0f921"
          ]
         ]
        },
        "geo": {
         "center": {},
         "domain": {
          "x": [
           0,
           1
          ],
          "y": [
           0,
           1
          ]
         }
        },
        "legend": {
         "tracegroupgap": 0
        },
        "sliders": [
         {
          "active": 0,
          "currentvalue": {
           "prefix": "Legal Drinking Age="
          },
          "len": 0.9,
          "pad": {
           "b": 10,
           "t": 60
          },
          "steps": [
           {
            "args": [
             [
              "0"
             ],
             {
              "frame": {
               "duration": 0,
               "redraw": true
              },
              "fromcurrent": true,
              "mode": "immediate",
              "transition": {
               "duration": 0,
               "easing": "linear"
              }
             }
            ],
            "label": "0",
            "method": "animate"
           },
           {
            "args": [
             [
              "15"
             ],
             {
              "frame": {
               "duration": 0,
               "redraw": true
              },
              "fromcurrent": true,
              "mode": "immediate",
              "transition": {
               "duration": 0,
               "easing": "linear"
              }
             }
            ],
            "label": "15",
            "method": "animate"
           },
           {
            "args": [
             [
              "16"
             ],
             {
              "frame": {
               "duration": 0,
               "redraw": true
              },
              "fromcurrent": true,
              "mode": "immediate",
              "transition": {
               "duration": 0,
               "easing": "linear"
              }
             }
            ],
            "label": "16",
            "method": "animate"
           },
           {
            "args": [
             [
              "17"
             ],
             {
              "frame": {
               "duration": 0,
               "redraw": true
              },
              "fromcurrent": true,
              "mode": "immediate",
              "transition": {
               "duration": 0,
               "easing": "linear"
              }
             }
            ],
            "label": "17",
            "method": "animate"
           },
           {
            "args": [
             [
              "18"
             ],
             {
              "frame": {
               "duration": 0,
               "redraw": true
              },
              "fromcurrent": true,
              "mode": "immediate",
              "transition": {
               "duration": 0,
               "easing": "linear"
              }
             }
            ],
            "label": "18",
            "method": "animate"
           },
           {
            "args": [
             [
              "19"
             ],
             {
              "frame": {
               "duration": 0,
               "redraw": true
              },
              "fromcurrent": true,
              "mode": "immediate",
              "transition": {
               "duration": 0,
               "easing": "linear"
              }
             }
            ],
            "label": "19",
            "method": "animate"
           },
           {
            "args": [
             [
              "20"
             ],
             {
              "frame": {
               "duration": 0,
               "redraw": true
              },
              "fromcurrent": true,
              "mode": "immediate",
              "transition": {
               "duration": 0,
               "easing": "linear"
              }
             }
            ],
            "label": "20",
            "method": "animate"
           },
           {
            "args": [
             [
              "21"
             ],
             {
              "frame": {
               "duration": 0,
               "redraw": true
              },
              "fromcurrent": true,
              "mode": "immediate",
              "transition": {
               "duration": 0,
               "easing": "linear"
              }
             }
            ],
            "label": "21",
            "method": "animate"
           }
          ],
          "x": 0.1,
          "xanchor": "left",
          "y": 0,
          "yanchor": "top"
         }
        ],
        "template": {
         "data": {
          "bar": [
           {
            "error_x": {
             "color": "#2a3f5f"
            },
            "error_y": {
             "color": "#2a3f5f"
            },
            "marker": {
             "line": {
              "color": "#E5ECF6",
              "width": 0.5
             },
             "pattern": {
              "fillmode": "overlay",
              "size": 10,
              "solidity": 0.2
             }
            },
            "type": "bar"
           }
          ],
          "barpolar": [
           {
            "marker": {
             "line": {
              "color": "#E5ECF6",
              "width": 0.5
             },
             "pattern": {
              "fillmode": "overlay",
              "size": 10,
              "solidity": 0.2
             }
            },
            "type": "barpolar"
           }
          ],
          "carpet": [
           {
            "aaxis": {
             "endlinecolor": "#2a3f5f",
             "gridcolor": "white",
             "linecolor": "white",
             "minorgridcolor": "white",
             "startlinecolor": "#2a3f5f"
            },
            "baxis": {
             "endlinecolor": "#2a3f5f",
             "gridcolor": "white",
             "linecolor": "white",
             "minorgridcolor": "white",
             "startlinecolor": "#2a3f5f"
            },
            "type": "carpet"
           }
          ],
          "choropleth": [
           {
            "colorbar": {
             "outlinewidth": 0,
             "ticks": ""
            },
            "type": "choropleth"
           }
          ],
          "contour": [
           {
            "colorbar": {
             "outlinewidth": 0,
             "ticks": ""
            },
            "colorscale": [
             [
              0,
              "#0d0887"
             ],
             [
              0.1111111111111111,
              "#46039f"
             ],
             [
              0.2222222222222222,
              "#7201a8"
             ],
             [
              0.3333333333333333,
              "#9c179e"
             ],
             [
              0.4444444444444444,
              "#bd3786"
             ],
             [
              0.5555555555555556,
              "#d8576b"
             ],
             [
              0.6666666666666666,
              "#ed7953"
             ],
             [
              0.7777777777777778,
              "#fb9f3a"
             ],
             [
              0.8888888888888888,
              "#fdca26"
             ],
             [
              1,
              "#f0f921"
             ]
            ],
            "type": "contour"
           }
          ],
          "contourcarpet": [
           {
            "colorbar": {
             "outlinewidth": 0,
             "ticks": ""
            },
            "type": "contourcarpet"
           }
          ],
          "heatmap": [
           {
            "colorbar": {
             "outlinewidth": 0,
             "ticks": ""
            },
            "colorscale": [
             [
              0,
              "#0d0887"
             ],
             [
              0.1111111111111111,
              "#46039f"
             ],
             [
              0.2222222222222222,
              "#7201a8"
             ],
             [
              0.3333333333333333,
              "#9c179e"
             ],
             [
              0.4444444444444444,
              "#bd3786"
             ],
             [
              0.5555555555555556,
              "#d8576b"
             ],
             [
              0.6666666666666666,
              "#ed7953"
             ],
             [
              0.7777777777777778,
              "#fb9f3a"
             ],
             [
              0.8888888888888888,
              "#fdca26"
             ],
             [
              1,
              "#f0f921"
             ]
            ],
            "type": "heatmap"
           }
          ],
          "heatmapgl": [
           {
            "colorbar": {
             "outlinewidth": 0,
             "ticks": ""
            },
            "colorscale": [
             [
              0,
              "#0d0887"
             ],
             [
              0.1111111111111111,
              "#46039f"
             ],
             [
              0.2222222222222222,
              "#7201a8"
             ],
             [
              0.3333333333333333,
              "#9c179e"
             ],
             [
              0.4444444444444444,
              "#bd3786"
             ],
             [
              0.5555555555555556,
              "#d8576b"
             ],
             [
              0.6666666666666666,
              "#ed7953"
             ],
             [
              0.7777777777777778,
              "#fb9f3a"
             ],
             [
              0.8888888888888888,
              "#fdca26"
             ],
             [
              1,
              "#f0f921"
             ]
            ],
            "type": "heatmapgl"
           }
          ],
          "histogram": [
           {
            "marker": {
             "pattern": {
              "fillmode": "overlay",
              "size": 10,
              "solidity": 0.2
             }
            },
            "type": "histogram"
           }
          ],
          "histogram2d": [
           {
            "colorbar": {
             "outlinewidth": 0,
             "ticks": ""
            },
            "colorscale": [
             [
              0,
              "#0d0887"
             ],
             [
              0.1111111111111111,
              "#46039f"
             ],
             [
              0.2222222222222222,
              "#7201a8"
             ],
             [
              0.3333333333333333,
              "#9c179e"
             ],
             [
              0.4444444444444444,
              "#bd3786"
             ],
             [
              0.5555555555555556,
              "#d8576b"
             ],
             [
              0.6666666666666666,
              "#ed7953"
             ],
             [
              0.7777777777777778,
              "#fb9f3a"
             ],
             [
              0.8888888888888888,
              "#fdca26"
             ],
             [
              1,
              "#f0f921"
             ]
            ],
            "type": "histogram2d"
           }
          ],
          "histogram2dcontour": [
           {
            "colorbar": {
             "outlinewidth": 0,
             "ticks": ""
            },
            "colorscale": [
             [
              0,
              "#0d0887"
             ],
             [
              0.1111111111111111,
              "#46039f"
             ],
             [
              0.2222222222222222,
              "#7201a8"
             ],
             [
              0.3333333333333333,
              "#9c179e"
             ],
             [
              0.4444444444444444,
              "#bd3786"
             ],
             [
              0.5555555555555556,
              "#d8576b"
             ],
             [
              0.6666666666666666,
              "#ed7953"
             ],
             [
              0.7777777777777778,
              "#fb9f3a"
             ],
             [
              0.8888888888888888,
              "#fdca26"
             ],
             [
              1,
              "#f0f921"
             ]
            ],
            "type": "histogram2dcontour"
           }
          ],
          "mesh3d": [
           {
            "colorbar": {
             "outlinewidth": 0,
             "ticks": ""
            },
            "type": "mesh3d"
           }
          ],
          "parcoords": [
           {
            "line": {
             "colorbar": {
              "outlinewidth": 0,
              "ticks": ""
             }
            },
            "type": "parcoords"
           }
          ],
          "pie": [
           {
            "automargin": true,
            "type": "pie"
           }
          ],
          "scatter": [
           {
            "fillpattern": {
             "fillmode": "overlay",
             "size": 10,
             "solidity": 0.2
            },
            "type": "scatter"
           }
          ],
          "scatter3d": [
           {
            "line": {
             "colorbar": {
              "outlinewidth": 0,
              "ticks": ""
             }
            },
            "marker": {
             "colorbar": {
              "outlinewidth": 0,
              "ticks": ""
             }
            },
            "type": "scatter3d"
           }
          ],
          "scattercarpet": [
           {
            "marker": {
             "colorbar": {
              "outlinewidth": 0,
              "ticks": ""
             }
            },
            "type": "scattercarpet"
           }
          ],
          "scattergeo": [
           {
            "marker": {
             "colorbar": {
              "outlinewidth": 0,
              "ticks": ""
             }
            },
            "type": "scattergeo"
           }
          ],
          "scattergl": [
           {
            "marker": {
             "colorbar": {
              "outlinewidth": 0,
              "ticks": ""
             }
            },
            "type": "scattergl"
           }
          ],
          "scattermapbox": [
           {
            "marker": {
             "colorbar": {
              "outlinewidth": 0,
              "ticks": ""
             }
            },
            "type": "scattermapbox"
           }
          ],
          "scatterpolar": [
           {
            "marker": {
             "colorbar": {
              "outlinewidth": 0,
              "ticks": ""
             }
            },
            "type": "scatterpolar"
           }
          ],
          "scatterpolargl": [
           {
            "marker": {
             "colorbar": {
              "outlinewidth": 0,
              "ticks": ""
             }
            },
            "type": "scatterpolargl"
           }
          ],
          "scatterternary": [
           {
            "marker": {
             "colorbar": {
              "outlinewidth": 0,
              "ticks": ""
             }
            },
            "type": "scatterternary"
           }
          ],
          "surface": [
           {
            "colorbar": {
             "outlinewidth": 0,
             "ticks": ""
            },
            "colorscale": [
             [
              0,
              "#0d0887"
             ],
             [
              0.1111111111111111,
              "#46039f"
             ],
             [
              0.2222222222222222,
              "#7201a8"
             ],
             [
              0.3333333333333333,
              "#9c179e"
             ],
             [
              0.4444444444444444,
              "#bd3786"
             ],
             [
              0.5555555555555556,
              "#d8576b"
             ],
             [
              0.6666666666666666,
              "#ed7953"
             ],
             [
              0.7777777777777778,
              "#fb9f3a"
             ],
             [
              0.8888888888888888,
              "#fdca26"
             ],
             [
              1,
              "#f0f921"
             ]
            ],
            "type": "surface"
           }
          ],
          "table": [
           {
            "cells": {
             "fill": {
              "color": "#EBF0F8"
             },
             "line": {
              "color": "white"
             }
            },
            "header": {
             "fill": {
              "color": "#C8D4E3"
             },
             "line": {
              "color": "white"
             }
            },
            "type": "table"
           }
          ]
         },
         "layout": {
          "annotationdefaults": {
           "arrowcolor": "#2a3f5f",
           "arrowhead": 0,
           "arrowwidth": 1
          },
          "autotypenumbers": "strict",
          "coloraxis": {
           "colorbar": {
            "outlinewidth": 0,
            "ticks": ""
           }
          },
          "colorscale": {
           "diverging": [
            [
             0,
             "#8e0152"
            ],
            [
             0.1,
             "#c51b7d"
            ],
            [
             0.2,
             "#de77ae"
            ],
            [
             0.3,
             "#f1b6da"
            ],
            [
             0.4,
             "#fde0ef"
            ],
            [
             0.5,
             "#f7f7f7"
            ],
            [
             0.6,
             "#e6f5d0"
            ],
            [
             0.7,
             "#b8e186"
            ],
            [
             0.8,
             "#7fbc41"
            ],
            [
             0.9,
             "#4d9221"
            ],
            [
             1,
             "#276419"
            ]
           ],
           "sequential": [
            [
             0,
             "#0d0887"
            ],
            [
             0.1111111111111111,
             "#46039f"
            ],
            [
             0.2222222222222222,
             "#7201a8"
            ],
            [
             0.3333333333333333,
             "#9c179e"
            ],
            [
             0.4444444444444444,
             "#bd3786"
            ],
            [
             0.5555555555555556,
             "#d8576b"
            ],
            [
             0.6666666666666666,
             "#ed7953"
            ],
            [
             0.7777777777777778,
             "#fb9f3a"
            ],
            [
             0.8888888888888888,
             "#fdca26"
            ],
            [
             1,
             "#f0f921"
            ]
           ],
           "sequentialminus": [
            [
             0,
             "#0d0887"
            ],
            [
             0.1111111111111111,
             "#46039f"
            ],
            [
             0.2222222222222222,
             "#7201a8"
            ],
            [
             0.3333333333333333,
             "#9c179e"
            ],
            [
             0.4444444444444444,
             "#bd3786"
            ],
            [
             0.5555555555555556,
             "#d8576b"
            ],
            [
             0.6666666666666666,
             "#ed7953"
            ],
            [
             0.7777777777777778,
             "#fb9f3a"
            ],
            [
             0.8888888888888888,
             "#fdca26"
            ],
            [
             1,
             "#f0f921"
            ]
           ]
          },
          "colorway": [
           "#636efa",
           "#EF553B",
           "#00cc96",
           "#ab63fa",
           "#FFA15A",
           "#19d3f3",
           "#FF6692",
           "#B6E880",
           "#FF97FF",
           "#FECB52"
          ],
          "font": {
           "color": "#2a3f5f"
          },
          "geo": {
           "bgcolor": "white",
           "lakecolor": "white",
           "landcolor": "#E5ECF6",
           "showlakes": true,
           "showland": true,
           "subunitcolor": "white"
          },
          "hoverlabel": {
           "align": "left"
          },
          "hovermode": "closest",
          "mapbox": {
           "style": "light"
          },
          "paper_bgcolor": "white",
          "plot_bgcolor": "#E5ECF6",
          "polar": {
           "angularaxis": {
            "gridcolor": "white",
            "linecolor": "white",
            "ticks": ""
           },
           "bgcolor": "#E5ECF6",
           "radialaxis": {
            "gridcolor": "white",
            "linecolor": "white",
            "ticks": ""
           }
          },
          "scene": {
           "xaxis": {
            "backgroundcolor": "#E5ECF6",
            "gridcolor": "white",
            "gridwidth": 2,
            "linecolor": "white",
            "showbackground": true,
            "ticks": "",
            "zerolinecolor": "white"
           },
           "yaxis": {
            "backgroundcolor": "#E5ECF6",
            "gridcolor": "white",
            "gridwidth": 2,
            "linecolor": "white",
            "showbackground": true,
            "ticks": "",
            "zerolinecolor": "white"
           },
           "zaxis": {
            "backgroundcolor": "#E5ECF6",
            "gridcolor": "white",
            "gridwidth": 2,
            "linecolor": "white",
            "showbackground": true,
            "ticks": "",
            "zerolinecolor": "white"
           }
          },
          "shapedefaults": {
           "line": {
            "color": "#2a3f5f"
           }
          },
          "ternary": {
           "aaxis": {
            "gridcolor": "white",
            "linecolor": "white",
            "ticks": ""
           },
           "baxis": {
            "gridcolor": "white",
            "linecolor": "white",
            "ticks": ""
           },
           "bgcolor": "#E5ECF6",
           "caxis": {
            "gridcolor": "white",
            "linecolor": "white",
            "ticks": ""
           }
          },
          "title": {
           "x": 0.05
          },
          "xaxis": {
           "automargin": true,
           "gridcolor": "white",
           "linecolor": "white",
           "ticks": "",
           "title": {
            "standoff": 15
           },
           "zerolinecolor": "white",
           "zerolinewidth": 2
          },
          "yaxis": {
           "automargin": true,
           "gridcolor": "white",
           "linecolor": "white",
           "ticks": "",
           "title": {
            "standoff": 15
           },
           "zerolinecolor": "white",
           "zerolinewidth": 2
          }
         }
        },
        "title": {
         "text": "Alcohol Consumption by Country for each Legal Drinking Age"
        },
        "updatemenus": [
         {
          "buttons": [
           {
            "args": [
             null,
             {
              "frame": {
               "duration": 500,
               "redraw": true
              },
              "fromcurrent": true,
              "mode": "immediate",
              "transition": {
               "duration": 500,
               "easing": "linear"
              }
             }
            ],
            "label": "&#9654;",
            "method": "animate"
           },
           {
            "args": [
             [
              null
             ],
             {
              "frame": {
               "duration": 0,
               "redraw": true
              },
              "fromcurrent": true,
              "mode": "immediate",
              "transition": {
               "duration": 0,
               "easing": "linear"
              }
             }
            ],
            "label": "&#9724;",
            "method": "animate"
           }
          ],
          "direction": "left",
          "pad": {
           "r": 10,
           "t": 70
          },
          "showactive": false,
          "type": "buttons",
          "x": 0.1,
          "xanchor": "right",
          "y": 0,
          "yanchor": "top"
         }
        ]
       }
      }
     },
     "metadata": {},
     "output_type": "display_data"
    }
   ],
   "source": [
    "fig6 = px.choropleth(df.sort_values(by=['Legal Drinking Age']), locations='Iso', color='Alcohol', hover_name='Country', animation_frame='Legal Drinking Age', range_color=[0, 14], title='Alcohol Consumption by Country for each Legal Drinking Age')\n",
    "fig6.show()\n",
    "fig6.write_html('graphs/consumption_drinking_age.html')"
   ]
  },
  {
   "cell_type": "code",
   "execution_count": 99,
   "metadata": {},
   "outputs": [
    {
     "data": {
      "application/vnd.plotly.v1+json": {
       "config": {
        "plotlyServerURL": "https://plotly.com"
       },
       "data": [
        {
         "coloraxis": "coloraxis",
         "geo": "geo",
         "hovertemplate": "<b>%{hovertext}</b><br><br>Legal Drinking Age=0<br>Iso=%{location}<br>Happiness=%{z}<extra></extra>",
         "hovertext": [
          "Togo",
          "Burkina Faso"
         ],
         "locations": [
          "TGO",
          "BFA"
         ],
         "name": "",
         "type": "choropleth",
         "z": [
          4.085,
          4.587
         ]
        }
       ],
       "frames": [
        {
         "data": [
          {
           "coloraxis": "coloraxis",
           "geo": "geo",
           "hovertemplate": "<b>%{hovertext}</b><br><br>Legal Drinking Age=0<br>Iso=%{location}<br>Happiness=%{z}<extra></extra>",
           "hovertext": [
            "Togo",
            "Burkina Faso"
           ],
           "locations": [
            "TGO",
            "BFA"
           ],
           "name": "",
           "type": "choropleth",
           "z": [
            4.085,
            4.587
           ]
          }
         ],
         "name": "0"
        },
        {
         "data": [
          {
           "coloraxis": "coloraxis",
           "geo": "geo",
           "hovertemplate": "<b>%{hovertext}</b><br><br>Legal Drinking Age=15<br>Iso=%{location}<br>Happiness=%{z}<extra></extra>",
           "hovertext": [
            "Central African Republic",
            "Mali"
           ],
           "locations": [
            "CAF",
            "MLI"
           ],
           "name": "",
           "type": "choropleth",
           "z": [
            3.083,
            4.39
           ]
          }
         ],
         "name": "15"
        },
        {
         "data": [
          {
           "coloraxis": "coloraxis",
           "geo": "geo",
           "hovertemplate": "<b>%{hovertext}</b><br><br>Legal Drinking Age=16<br>Iso=%{location}<br>Happiness=%{z}<extra></extra>",
           "hovertext": [
            "Georgia",
            "Denmark",
            "Belgium",
            "Haiti",
            "Chad",
            "Austria",
            "Burundi",
            "Switzerland",
            "Luxembourg",
            "Germany"
           ],
           "locations": [
            "GEO",
            "DNK",
            "BEL",
            "HTI",
            "TCD",
            "AUT",
            "BDI",
            "CHE",
            "LUX",
            "DEU"
           ],
           "name": "",
           "type": "choropleth",
           "z": [
            4.519,
            7.6,
            6.923,
            3.597,
            4.35,
            7.246,
            3.775,
            7.48,
            7.09,
            6.985
           ]
          }
         ],
         "name": "16"
        },
        {
         "data": [
          {
           "coloraxis": "coloraxis",
           "geo": "geo",
           "hovertemplate": "<b>%{hovertext}</b><br><br>Legal Drinking Age=17<br>Iso=%{location}<br>Happiness=%{z}<extra></extra>",
           "hovertext": [
            "Malta"
           ],
           "locations": [
            "MLT"
           ],
           "name": "",
           "type": "choropleth",
           "z": [
            6.726
           ]
          }
         ],
         "name": "17"
        },
        {
         "data": [
          {
           "coloraxis": "coloraxis",
           "geo": "geo",
           "hovertemplate": "<b>%{hovertext}</b><br><br>Legal Drinking Age=18<br>Iso=%{location}<br>Happiness=%{z}<extra></extra>",
           "hovertext": [
            "Armenia",
            "India",
            "Namibia",
            "Ecuador",
            "Gambia",
            "Venezuela",
            "United Arab Emirates",
            "Bolivia",
            "Honduras",
            "Costa Rica",
            "Colombia",
            "Malawi",
            "Liberia",
            "Sierra Leone",
            "El Salvador",
            "Jamaica",
            "Nicaragua",
            "Mexico",
            "Kyrgyzstan",
            "Israel",
            "Zambia",
            "Zimbabwe",
            "Mauritius",
            "Turkmenistan",
            "Latvia",
            "Ghana",
            "Syria",
            "Bhutan",
            "Morocco",
            "Niger",
            "Jordan",
            "Nepal",
            "Algeria",
            "Senegal",
            "Tajikistan",
            "Malaysia",
            "Azerbaijan",
            "Ivory Coast",
            "Guinea",
            "Lebanon",
            "Guatemala",
            "Turkey",
            "Madagascar",
            "Singapore",
            "Tunisia",
            "Myanmar",
            "Kenya",
            "Ethiopia",
            "Mongolia",
            "Mozambique",
            "Comoros",
            "Nigeria",
            "China",
            "Bangladesh",
            "Sweden",
            "Romania",
            "South Africa",
            "Argentina",
            "Montenegro",
            "Netherlands",
            "France",
            "North Macedonia",
            "Slovenia",
            "Portugal",
            "Chile",
            "Australia",
            "Greece",
            "Finland",
            "New Zealand",
            "Estonia",
            "Cyprus",
            "Belarus",
            "Slovakia",
            "Hungary",
            "United Kingdom",
            "Poland",
            "Russia",
            "Tanzania",
            "Serbia",
            "Croatia",
            "Botswana",
            "Dominican Republic",
            "Moldova",
            "Peru",
            "Albania",
            "Uruguay",
            "Lithuania",
            "Ireland",
            "Philippines",
            "Spain",
            "Canada",
            "Norway",
            "Panama",
            "Bosnia and Herzegovina",
            "Uganda",
            "Vietnam",
            "Rwanda",
            "Italy",
            "Gabon",
            "Ukraine",
            "Bulgaria",
            "Brazil",
            "Laos"
           ],
           "locations": [
            "ARM",
            "IND",
            "NAM",
            "ECU",
            "GMB",
            "VEN",
            "ARE",
            "BOL",
            "HND",
            "CRI",
            "COL",
            "MWI",
            "LBR",
            "SLE",
            "SLV",
            "JAM",
            "NIC",
            "MEX",
            "KGZ",
            "ISR",
            "ZMB",
            "ZWE",
            "MUS",
            "TKM",
            "LVA",
            "GHA",
            "SYR",
            "BTN",
            "MAR",
            "NER",
            "JOR",
            "NPL",
            "DZA",
            "SEN",
            "TJK",
            "MYS",
            "AZE",
            "CIV",
            "GIN",
            "LBN",
            "GTM",
            "TUR",
            "MDG",
            "SGP",
            "TUN",
            "MMR",
            "KEN",
            "ETH",
            "MNG",
            "MOZ",
            "COM",
            "NGA",
            "CHN",
            "BGD",
            "SWE",
            "ROU",
            "ZAF",
            "ARG",
            "MNE",
            "NLD",
            "FRA",
            "MKD",
            "SVN",
            "PRT",
            "CHL",
            "AUS",
            "GRC",
            "FIN",
            "NZL",
            "EST",
            "CYP",
            "BLR",
            "SVK",
            "HUN",
            "GBR",
            "POL",
            "RUS",
            "TZA",
            "SRB",
            "HRV",
            "BWA",
            "DMA",
            "MDA",
            "PER",
            "ALB",
            "URY",
            "LTU",
            "IRL",
            "PHL",
            "ESP",
            "CAN",
            "NOR",
            "PAN",
            "BIH",
            "UGA",
            "VNM",
            "RWA",
            "ITA",
            "GAB",
            "UKR",
            "BGR",
            "BRA",
            "LAO"
           ],
           "name": "",
           "type": "choropleth",
           "z": [
            4.559,
            4.015,
            4.639,
            6.028,
            4.516,
            4.707,
            6.825,
            5.779,
            5.86,
            7.167,
            6.125,
            3.41,
            3.975,
            4.374,
            6.253,
            5.89,
            6.105,
            6.595,
            5.261,
            7.139,
            4.107,
            3.663,
            5.888,
            5.247,
            5.94,
            4.996,
            3.462,
            5.082,
            5.208,
            4.628,
            4.906,
            4.913,
            5.211,
            4.681,
            5.467,
            5.339,
            5.208,
            4.944,
            4.534,
            5.197,
            6.436,
            5.373,
            3.933,
            6.262,
            4.461,
            4.36,
            4.509,
            4.286,
            5.285,
            4.466,
            3.973,
            5.265,
            5.191,
            4.456,
            7.343,
            6.07,
            4.722,
            6.086,
            5.523,
            7.488,
            6.592,
            5.274,
            6.118,
            5.693,
            6.444,
            7.228,
            5.287,
            7.769,
            7.307,
            5.893,
            6.046,
            5.323,
            6.198,
            5.758,
            7.054,
            6.182,
            5.648,
            3.231,
            5.603,
            5.432,
            3.488,
            5.425,
            5.529,
            5.697,
            4.719,
            6.293,
            6.149,
            7.021,
            5.631,
            6.354,
            7.278,
            7.554,
            6.321,
            5.386,
            4.189,
            5.175,
            3.334,
            6.223,
            4.799,
            4.332,
            5.011,
            6.3,
            4.796
           ]
          }
         ],
         "name": "18"
        },
        {
         "data": [
          {
           "coloraxis": "coloraxis",
           "geo": "geo",
           "hovertemplate": "<b>%{hovertext}</b><br><br>Legal Drinking Age=19<br>Iso=%{location}<br>Happiness=%{z}<extra></extra>",
           "hovertext": [
            "Qatar",
            "South Korea"
           ],
           "locations": [
            "QAT",
            "KOR"
           ],
           "name": "",
           "type": "choropleth",
           "z": [
            6.374,
            5.895
           ]
          }
         ],
         "name": "19"
        },
        {
         "data": [
          {
           "coloraxis": "coloraxis",
           "geo": "geo",
           "hovertemplate": "<b>%{hovertext}</b><br><br>Legal Drinking Age=20<br>Iso=%{location}<br>Happiness=%{z}<extra></extra>",
           "hovertext": [
            "Japan",
            "Benin",
            "Uzbekistan",
            "Iceland",
            "Thailand",
            "Paraguay"
           ],
           "locations": [
            "JPN",
            "BEN",
            "UZB",
            "ISL",
            "THA",
            "PRY"
           ],
           "name": "",
           "type": "choropleth",
           "z": [
            5.886,
            4.883,
            6.174,
            7.494,
            6.008,
            5.743
           ]
          }
         ],
         "name": "20"
        },
        {
         "data": [
          {
           "coloraxis": "coloraxis",
           "geo": "geo",
           "hovertemplate": "<b>%{hovertext}</b><br><br>Legal Drinking Age=21<br>Iso=%{location}<br>Happiness=%{z}<extra></extra>",
           "hovertext": [
            "United States",
            "Sri Lanka",
            "Cambodia",
            "Kazakhstan",
            "Iraq",
            "Indonesia",
            "Lesotho",
            "Cameroon",
            "Egypt",
            "Bahrain",
            "Mauritania"
           ],
           "locations": [
            "USA",
            "LKA",
            "KHM",
            "KAZ",
            "IRQ",
            "IDN",
            "LSO",
            "CMR",
            "EGY",
            "BHR",
            "MRT"
           ],
           "name": "",
           "type": "choropleth",
           "z": [
            6.892,
            4.366,
            4.7,
            5.809,
            4.437,
            5.192,
            3.802,
            5.044,
            4.166,
            6.199,
            4.49
           ]
          }
         ],
         "name": "21"
        }
       ],
       "layout": {
        "coloraxis": {
         "cmax": 8,
         "cmin": 0,
         "colorbar": {
          "title": {
           "text": "Happiness"
          }
         },
         "colorscale": [
          [
           0,
           "#0d0887"
          ],
          [
           0.1111111111111111,
           "#46039f"
          ],
          [
           0.2222222222222222,
           "#7201a8"
          ],
          [
           0.3333333333333333,
           "#9c179e"
          ],
          [
           0.4444444444444444,
           "#bd3786"
          ],
          [
           0.5555555555555556,
           "#d8576b"
          ],
          [
           0.6666666666666666,
           "#ed7953"
          ],
          [
           0.7777777777777778,
           "#fb9f3a"
          ],
          [
           0.8888888888888888,
           "#fdca26"
          ],
          [
           1,
           "#f0f921"
          ]
         ]
        },
        "geo": {
         "center": {},
         "domain": {
          "x": [
           0,
           1
          ],
          "y": [
           0,
           1
          ]
         }
        },
        "legend": {
         "tracegroupgap": 0
        },
        "sliders": [
         {
          "active": 0,
          "currentvalue": {
           "prefix": "Legal Drinking Age="
          },
          "len": 0.9,
          "pad": {
           "b": 10,
           "t": 60
          },
          "steps": [
           {
            "args": [
             [
              "0"
             ],
             {
              "frame": {
               "duration": 0,
               "redraw": true
              },
              "fromcurrent": true,
              "mode": "immediate",
              "transition": {
               "duration": 0,
               "easing": "linear"
              }
             }
            ],
            "label": "0",
            "method": "animate"
           },
           {
            "args": [
             [
              "15"
             ],
             {
              "frame": {
               "duration": 0,
               "redraw": true
              },
              "fromcurrent": true,
              "mode": "immediate",
              "transition": {
               "duration": 0,
               "easing": "linear"
              }
             }
            ],
            "label": "15",
            "method": "animate"
           },
           {
            "args": [
             [
              "16"
             ],
             {
              "frame": {
               "duration": 0,
               "redraw": true
              },
              "fromcurrent": true,
              "mode": "immediate",
              "transition": {
               "duration": 0,
               "easing": "linear"
              }
             }
            ],
            "label": "16",
            "method": "animate"
           },
           {
            "args": [
             [
              "17"
             ],
             {
              "frame": {
               "duration": 0,
               "redraw": true
              },
              "fromcurrent": true,
              "mode": "immediate",
              "transition": {
               "duration": 0,
               "easing": "linear"
              }
             }
            ],
            "label": "17",
            "method": "animate"
           },
           {
            "args": [
             [
              "18"
             ],
             {
              "frame": {
               "duration": 0,
               "redraw": true
              },
              "fromcurrent": true,
              "mode": "immediate",
              "transition": {
               "duration": 0,
               "easing": "linear"
              }
             }
            ],
            "label": "18",
            "method": "animate"
           },
           {
            "args": [
             [
              "19"
             ],
             {
              "frame": {
               "duration": 0,
               "redraw": true
              },
              "fromcurrent": true,
              "mode": "immediate",
              "transition": {
               "duration": 0,
               "easing": "linear"
              }
             }
            ],
            "label": "19",
            "method": "animate"
           },
           {
            "args": [
             [
              "20"
             ],
             {
              "frame": {
               "duration": 0,
               "redraw": true
              },
              "fromcurrent": true,
              "mode": "immediate",
              "transition": {
               "duration": 0,
               "easing": "linear"
              }
             }
            ],
            "label": "20",
            "method": "animate"
           },
           {
            "args": [
             [
              "21"
             ],
             {
              "frame": {
               "duration": 0,
               "redraw": true
              },
              "fromcurrent": true,
              "mode": "immediate",
              "transition": {
               "duration": 0,
               "easing": "linear"
              }
             }
            ],
            "label": "21",
            "method": "animate"
           }
          ],
          "x": 0.1,
          "xanchor": "left",
          "y": 0,
          "yanchor": "top"
         }
        ],
        "template": {
         "data": {
          "bar": [
           {
            "error_x": {
             "color": "#2a3f5f"
            },
            "error_y": {
             "color": "#2a3f5f"
            },
            "marker": {
             "line": {
              "color": "#E5ECF6",
              "width": 0.5
             },
             "pattern": {
              "fillmode": "overlay",
              "size": 10,
              "solidity": 0.2
             }
            },
            "type": "bar"
           }
          ],
          "barpolar": [
           {
            "marker": {
             "line": {
              "color": "#E5ECF6",
              "width": 0.5
             },
             "pattern": {
              "fillmode": "overlay",
              "size": 10,
              "solidity": 0.2
             }
            },
            "type": "barpolar"
           }
          ],
          "carpet": [
           {
            "aaxis": {
             "endlinecolor": "#2a3f5f",
             "gridcolor": "white",
             "linecolor": "white",
             "minorgridcolor": "white",
             "startlinecolor": "#2a3f5f"
            },
            "baxis": {
             "endlinecolor": "#2a3f5f",
             "gridcolor": "white",
             "linecolor": "white",
             "minorgridcolor": "white",
             "startlinecolor": "#2a3f5f"
            },
            "type": "carpet"
           }
          ],
          "choropleth": [
           {
            "colorbar": {
             "outlinewidth": 0,
             "ticks": ""
            },
            "type": "choropleth"
           }
          ],
          "contour": [
           {
            "colorbar": {
             "outlinewidth": 0,
             "ticks": ""
            },
            "colorscale": [
             [
              0,
              "#0d0887"
             ],
             [
              0.1111111111111111,
              "#46039f"
             ],
             [
              0.2222222222222222,
              "#7201a8"
             ],
             [
              0.3333333333333333,
              "#9c179e"
             ],
             [
              0.4444444444444444,
              "#bd3786"
             ],
             [
              0.5555555555555556,
              "#d8576b"
             ],
             [
              0.6666666666666666,
              "#ed7953"
             ],
             [
              0.7777777777777778,
              "#fb9f3a"
             ],
             [
              0.8888888888888888,
              "#fdca26"
             ],
             [
              1,
              "#f0f921"
             ]
            ],
            "type": "contour"
           }
          ],
          "contourcarpet": [
           {
            "colorbar": {
             "outlinewidth": 0,
             "ticks": ""
            },
            "type": "contourcarpet"
           }
          ],
          "heatmap": [
           {
            "colorbar": {
             "outlinewidth": 0,
             "ticks": ""
            },
            "colorscale": [
             [
              0,
              "#0d0887"
             ],
             [
              0.1111111111111111,
              "#46039f"
             ],
             [
              0.2222222222222222,
              "#7201a8"
             ],
             [
              0.3333333333333333,
              "#9c179e"
             ],
             [
              0.4444444444444444,
              "#bd3786"
             ],
             [
              0.5555555555555556,
              "#d8576b"
             ],
             [
              0.6666666666666666,
              "#ed7953"
             ],
             [
              0.7777777777777778,
              "#fb9f3a"
             ],
             [
              0.8888888888888888,
              "#fdca26"
             ],
             [
              1,
              "#f0f921"
             ]
            ],
            "type": "heatmap"
           }
          ],
          "heatmapgl": [
           {
            "colorbar": {
             "outlinewidth": 0,
             "ticks": ""
            },
            "colorscale": [
             [
              0,
              "#0d0887"
             ],
             [
              0.1111111111111111,
              "#46039f"
             ],
             [
              0.2222222222222222,
              "#7201a8"
             ],
             [
              0.3333333333333333,
              "#9c179e"
             ],
             [
              0.4444444444444444,
              "#bd3786"
             ],
             [
              0.5555555555555556,
              "#d8576b"
             ],
             [
              0.6666666666666666,
              "#ed7953"
             ],
             [
              0.7777777777777778,
              "#fb9f3a"
             ],
             [
              0.8888888888888888,
              "#fdca26"
             ],
             [
              1,
              "#f0f921"
             ]
            ],
            "type": "heatmapgl"
           }
          ],
          "histogram": [
           {
            "marker": {
             "pattern": {
              "fillmode": "overlay",
              "size": 10,
              "solidity": 0.2
             }
            },
            "type": "histogram"
           }
          ],
          "histogram2d": [
           {
            "colorbar": {
             "outlinewidth": 0,
             "ticks": ""
            },
            "colorscale": [
             [
              0,
              "#0d0887"
             ],
             [
              0.1111111111111111,
              "#46039f"
             ],
             [
              0.2222222222222222,
              "#7201a8"
             ],
             [
              0.3333333333333333,
              "#9c179e"
             ],
             [
              0.4444444444444444,
              "#bd3786"
             ],
             [
              0.5555555555555556,
              "#d8576b"
             ],
             [
              0.6666666666666666,
              "#ed7953"
             ],
             [
              0.7777777777777778,
              "#fb9f3a"
             ],
             [
              0.8888888888888888,
              "#fdca26"
             ],
             [
              1,
              "#f0f921"
             ]
            ],
            "type": "histogram2d"
           }
          ],
          "histogram2dcontour": [
           {
            "colorbar": {
             "outlinewidth": 0,
             "ticks": ""
            },
            "colorscale": [
             [
              0,
              "#0d0887"
             ],
             [
              0.1111111111111111,
              "#46039f"
             ],
             [
              0.2222222222222222,
              "#7201a8"
             ],
             [
              0.3333333333333333,
              "#9c179e"
             ],
             [
              0.4444444444444444,
              "#bd3786"
             ],
             [
              0.5555555555555556,
              "#d8576b"
             ],
             [
              0.6666666666666666,
              "#ed7953"
             ],
             [
              0.7777777777777778,
              "#fb9f3a"
             ],
             [
              0.8888888888888888,
              "#fdca26"
             ],
             [
              1,
              "#f0f921"
             ]
            ],
            "type": "histogram2dcontour"
           }
          ],
          "mesh3d": [
           {
            "colorbar": {
             "outlinewidth": 0,
             "ticks": ""
            },
            "type": "mesh3d"
           }
          ],
          "parcoords": [
           {
            "line": {
             "colorbar": {
              "outlinewidth": 0,
              "ticks": ""
             }
            },
            "type": "parcoords"
           }
          ],
          "pie": [
           {
            "automargin": true,
            "type": "pie"
           }
          ],
          "scatter": [
           {
            "fillpattern": {
             "fillmode": "overlay",
             "size": 10,
             "solidity": 0.2
            },
            "type": "scatter"
           }
          ],
          "scatter3d": [
           {
            "line": {
             "colorbar": {
              "outlinewidth": 0,
              "ticks": ""
             }
            },
            "marker": {
             "colorbar": {
              "outlinewidth": 0,
              "ticks": ""
             }
            },
            "type": "scatter3d"
           }
          ],
          "scattercarpet": [
           {
            "marker": {
             "colorbar": {
              "outlinewidth": 0,
              "ticks": ""
             }
            },
            "type": "scattercarpet"
           }
          ],
          "scattergeo": [
           {
            "marker": {
             "colorbar": {
              "outlinewidth": 0,
              "ticks": ""
             }
            },
            "type": "scattergeo"
           }
          ],
          "scattergl": [
           {
            "marker": {
             "colorbar": {
              "outlinewidth": 0,
              "ticks": ""
             }
            },
            "type": "scattergl"
           }
          ],
          "scattermapbox": [
           {
            "marker": {
             "colorbar": {
              "outlinewidth": 0,
              "ticks": ""
             }
            },
            "type": "scattermapbox"
           }
          ],
          "scatterpolar": [
           {
            "marker": {
             "colorbar": {
              "outlinewidth": 0,
              "ticks": ""
             }
            },
            "type": "scatterpolar"
           }
          ],
          "scatterpolargl": [
           {
            "marker": {
             "colorbar": {
              "outlinewidth": 0,
              "ticks": ""
             }
            },
            "type": "scatterpolargl"
           }
          ],
          "scatterternary": [
           {
            "marker": {
             "colorbar": {
              "outlinewidth": 0,
              "ticks": ""
             }
            },
            "type": "scatterternary"
           }
          ],
          "surface": [
           {
            "colorbar": {
             "outlinewidth": 0,
             "ticks": ""
            },
            "colorscale": [
             [
              0,
              "#0d0887"
             ],
             [
              0.1111111111111111,
              "#46039f"
             ],
             [
              0.2222222222222222,
              "#7201a8"
             ],
             [
              0.3333333333333333,
              "#9c179e"
             ],
             [
              0.4444444444444444,
              "#bd3786"
             ],
             [
              0.5555555555555556,
              "#d8576b"
             ],
             [
              0.6666666666666666,
              "#ed7953"
             ],
             [
              0.7777777777777778,
              "#fb9f3a"
             ],
             [
              0.8888888888888888,
              "#fdca26"
             ],
             [
              1,
              "#f0f921"
             ]
            ],
            "type": "surface"
           }
          ],
          "table": [
           {
            "cells": {
             "fill": {
              "color": "#EBF0F8"
             },
             "line": {
              "color": "white"
             }
            },
            "header": {
             "fill": {
              "color": "#C8D4E3"
             },
             "line": {
              "color": "white"
             }
            },
            "type": "table"
           }
          ]
         },
         "layout": {
          "annotationdefaults": {
           "arrowcolor": "#2a3f5f",
           "arrowhead": 0,
           "arrowwidth": 1
          },
          "autotypenumbers": "strict",
          "coloraxis": {
           "colorbar": {
            "outlinewidth": 0,
            "ticks": ""
           }
          },
          "colorscale": {
           "diverging": [
            [
             0,
             "#8e0152"
            ],
            [
             0.1,
             "#c51b7d"
            ],
            [
             0.2,
             "#de77ae"
            ],
            [
             0.3,
             "#f1b6da"
            ],
            [
             0.4,
             "#fde0ef"
            ],
            [
             0.5,
             "#f7f7f7"
            ],
            [
             0.6,
             "#e6f5d0"
            ],
            [
             0.7,
             "#b8e186"
            ],
            [
             0.8,
             "#7fbc41"
            ],
            [
             0.9,
             "#4d9221"
            ],
            [
             1,
             "#276419"
            ]
           ],
           "sequential": [
            [
             0,
             "#0d0887"
            ],
            [
             0.1111111111111111,
             "#46039f"
            ],
            [
             0.2222222222222222,
             "#7201a8"
            ],
            [
             0.3333333333333333,
             "#9c179e"
            ],
            [
             0.4444444444444444,
             "#bd3786"
            ],
            [
             0.5555555555555556,
             "#d8576b"
            ],
            [
             0.6666666666666666,
             "#ed7953"
            ],
            [
             0.7777777777777778,
             "#fb9f3a"
            ],
            [
             0.8888888888888888,
             "#fdca26"
            ],
            [
             1,
             "#f0f921"
            ]
           ],
           "sequentialminus": [
            [
             0,
             "#0d0887"
            ],
            [
             0.1111111111111111,
             "#46039f"
            ],
            [
             0.2222222222222222,
             "#7201a8"
            ],
            [
             0.3333333333333333,
             "#9c179e"
            ],
            [
             0.4444444444444444,
             "#bd3786"
            ],
            [
             0.5555555555555556,
             "#d8576b"
            ],
            [
             0.6666666666666666,
             "#ed7953"
            ],
            [
             0.7777777777777778,
             "#fb9f3a"
            ],
            [
             0.8888888888888888,
             "#fdca26"
            ],
            [
             1,
             "#f0f921"
            ]
           ]
          },
          "colorway": [
           "#636efa",
           "#EF553B",
           "#00cc96",
           "#ab63fa",
           "#FFA15A",
           "#19d3f3",
           "#FF6692",
           "#B6E880",
           "#FF97FF",
           "#FECB52"
          ],
          "font": {
           "color": "#2a3f5f"
          },
          "geo": {
           "bgcolor": "white",
           "lakecolor": "white",
           "landcolor": "#E5ECF6",
           "showlakes": true,
           "showland": true,
           "subunitcolor": "white"
          },
          "hoverlabel": {
           "align": "left"
          },
          "hovermode": "closest",
          "mapbox": {
           "style": "light"
          },
          "paper_bgcolor": "white",
          "plot_bgcolor": "#E5ECF6",
          "polar": {
           "angularaxis": {
            "gridcolor": "white",
            "linecolor": "white",
            "ticks": ""
           },
           "bgcolor": "#E5ECF6",
           "radialaxis": {
            "gridcolor": "white",
            "linecolor": "white",
            "ticks": ""
           }
          },
          "scene": {
           "xaxis": {
            "backgroundcolor": "#E5ECF6",
            "gridcolor": "white",
            "gridwidth": 2,
            "linecolor": "white",
            "showbackground": true,
            "ticks": "",
            "zerolinecolor": "white"
           },
           "yaxis": {
            "backgroundcolor": "#E5ECF6",
            "gridcolor": "white",
            "gridwidth": 2,
            "linecolor": "white",
            "showbackground": true,
            "ticks": "",
            "zerolinecolor": "white"
           },
           "zaxis": {
            "backgroundcolor": "#E5ECF6",
            "gridcolor": "white",
            "gridwidth": 2,
            "linecolor": "white",
            "showbackground": true,
            "ticks": "",
            "zerolinecolor": "white"
           }
          },
          "shapedefaults": {
           "line": {
            "color": "#2a3f5f"
           }
          },
          "ternary": {
           "aaxis": {
            "gridcolor": "white",
            "linecolor": "white",
            "ticks": ""
           },
           "baxis": {
            "gridcolor": "white",
            "linecolor": "white",
            "ticks": ""
           },
           "bgcolor": "#E5ECF6",
           "caxis": {
            "gridcolor": "white",
            "linecolor": "white",
            "ticks": ""
           }
          },
          "title": {
           "x": 0.05
          },
          "xaxis": {
           "automargin": true,
           "gridcolor": "white",
           "linecolor": "white",
           "ticks": "",
           "title": {
            "standoff": 15
           },
           "zerolinecolor": "white",
           "zerolinewidth": 2
          },
          "yaxis": {
           "automargin": true,
           "gridcolor": "white",
           "linecolor": "white",
           "ticks": "",
           "title": {
            "standoff": 15
           },
           "zerolinecolor": "white",
           "zerolinewidth": 2
          }
         }
        },
        "title": {
         "text": "Happiness Index by Country for each Legal Drinking Age"
        },
        "updatemenus": [
         {
          "buttons": [
           {
            "args": [
             null,
             {
              "frame": {
               "duration": 500,
               "redraw": true
              },
              "fromcurrent": true,
              "mode": "immediate",
              "transition": {
               "duration": 500,
               "easing": "linear"
              }
             }
            ],
            "label": "&#9654;",
            "method": "animate"
           },
           {
            "args": [
             [
              null
             ],
             {
              "frame": {
               "duration": 0,
               "redraw": true
              },
              "fromcurrent": true,
              "mode": "immediate",
              "transition": {
               "duration": 0,
               "easing": "linear"
              }
             }
            ],
            "label": "&#9724;",
            "method": "animate"
           }
          ],
          "direction": "left",
          "pad": {
           "r": 10,
           "t": 70
          },
          "showactive": false,
          "type": "buttons",
          "x": 0.1,
          "xanchor": "right",
          "y": 0,
          "yanchor": "top"
         }
        ]
       }
      }
     },
     "metadata": {},
     "output_type": "display_data"
    }
   ],
   "source": [
    "fig7 = px.choropleth(df.sort_values(by=['Legal Drinking Age']), locations='Iso', color='Happiness', hover_name='Country', animation_frame='Legal Drinking Age', range_color=[0, 8], title='Happiness Index by Country for each Legal Drinking Age')\n",
    "fig7.show()\n",
    "fig7.write_html('graphs/happiness_drinking_age.html')"
   ]
  }
 ],
 "metadata": {
  "kernelspec": {
   "display_name": "Python 3.10.1 64-bit",
   "language": "python",
   "name": "python3"
  },
  "language_info": {
   "codemirror_mode": {
    "name": "ipython",
    "version": 3
   },
   "file_extension": ".py",
   "mimetype": "text/x-python",
   "name": "python",
   "nbconvert_exporter": "python",
   "pygments_lexer": "ipython3",
   "version": "3.10.1"
  },
  "orig_nbformat": 4,
  "vscode": {
   "interpreter": {
    "hash": "81b417f7e99debf9609bef134b1fac8e0a0a31c7a8c9a243109829771a606077"
   }
  }
 },
 "nbformat": 4,
 "nbformat_minor": 2
}
